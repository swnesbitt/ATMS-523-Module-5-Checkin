{
 "cells": [
  {
   "cell_type": "code",
   "execution_count": 1,
   "id": "9068143a-06cb-4b79-b1c9-032cae42725f",
   "metadata": {},
   "outputs": [
    {
     "data": {
      "text/plain": [
       "'Scott Thomas Andersen -- Module 5 Check-in -- ATMS 523.'"
      ]
     },
     "execution_count": 1,
     "metadata": {},
     "output_type": "execute_result"
    }
   ],
   "source": [
    "\"\"\"Scott Thomas Andersen -- Module 5 Check-in -- ATMS 523.\"\"\""
   ]
  },
  {
   "cell_type": "markdown",
   "id": "20200f80",
   "metadata": {},
   "source": [
    "# Homework: Compare Two Logistic Regression Models (Weather & Climate)\n",
    "\n",
    "**Compare the performance of two logistic regression models**  \n",
    "- **Model A (Full):** `CAPE`, `PWAT`, `Shear`  \n",
    "- **Model B (Reduced):** `CAPE`, only\n",
    "\n",
    "Does the three parameter model work better than the one parameter model?\n",
    "\n",
    "**Tasks**\n",
    "1. Split data into train/test.\n",
    "2. Fit both models.\n",
    "3. Compute **accuracy**, **precision**, **recall** at threshold 0.5.\n",
    "4. Plot **ROC** and **Precision–Recall** curves for both models on the same figures.\n",
    "5. Answer the interpretation questions.\n"
   ]
  },
  {
   "cell_type": "code",
   "execution_count": 2,
   "id": "b72aafdf",
   "metadata": {},
   "outputs": [
    {
     "data": {
      "text/html": [
       "<div>\n",
       "<style scoped>\n",
       "    .dataframe tbody tr th:only-of-type {\n",
       "        vertical-align: middle;\n",
       "    }\n",
       "\n",
       "    .dataframe tbody tr th {\n",
       "        vertical-align: top;\n",
       "    }\n",
       "\n",
       "    .dataframe thead th {\n",
       "        text-align: right;\n",
       "    }\n",
       "</style>\n",
       "<table border=\"1\" class=\"dataframe\">\n",
       "  <thead>\n",
       "    <tr style=\"text-align: right;\">\n",
       "      <th></th>\n",
       "      <th>cape</th>\n",
       "      <th>pwat</th>\n",
       "      <th>shear</th>\n",
       "      <th>event</th>\n",
       "    </tr>\n",
       "  </thead>\n",
       "  <tbody>\n",
       "    <tr>\n",
       "      <th>0</th>\n",
       "      <td>1339.091679</td>\n",
       "      <td>24.846334</td>\n",
       "      <td>4.350342</td>\n",
       "      <td>1</td>\n",
       "    </tr>\n",
       "    <tr>\n",
       "      <th>1</th>\n",
       "      <td>1620.699558</td>\n",
       "      <td>34.709626</td>\n",
       "      <td>23.376549</td>\n",
       "      <td>1</td>\n",
       "    </tr>\n",
       "    <tr>\n",
       "      <th>2</th>\n",
       "      <td>1237.079261</td>\n",
       "      <td>26.431445</td>\n",
       "      <td>20.809474</td>\n",
       "      <td>1</td>\n",
       "    </tr>\n",
       "    <tr>\n",
       "      <th>3</th>\n",
       "      <td>1157.616507</td>\n",
       "      <td>37.841527</td>\n",
       "      <td>29.506833</td>\n",
       "      <td>1</td>\n",
       "    </tr>\n",
       "    <tr>\n",
       "      <th>4</th>\n",
       "      <td>1708.955858</td>\n",
       "      <td>32.249385</td>\n",
       "      <td>6.662860</td>\n",
       "      <td>1</td>\n",
       "    </tr>\n",
       "  </tbody>\n",
       "</table>\n",
       "</div>"
      ],
      "text/plain": [
       "          cape       pwat      shear  event\n",
       "0  1339.091679  24.846334   4.350342      1\n",
       "1  1620.699558  34.709626  23.376549      1\n",
       "2  1237.079261  26.431445  20.809474      1\n",
       "3  1157.616507  37.841527  29.506833      1\n",
       "4  1708.955858  32.249385   6.662860      1"
      ]
     },
     "execution_count": 2,
     "metadata": {},
     "output_type": "execute_result"
    }
   ],
   "source": [
    "# Imports\n",
    "import numpy as np\n",
    "import pandas as pd\n",
    "from sklearn.model_selection import train_test_split\n",
    "from sklearn.linear_model import LogisticRegression\n",
    "from sklearn.metrics import (accuracy_score, precision_score, recall_score,\n",
    "                             RocCurveDisplay, PrecisionRecallDisplay,\n",
    "                             roc_curve, precision_recall_curve, auc)\n",
    "\n",
    "FEATURES_FULL = ['cape', 'pwat', 'shear']\n",
    "FEATURES_REDUCED = ['cape']\n",
    "TARGET = 'event'\n",
    "\n",
    "# Synthetic fallback\n",
    "USE_SYNTHETIC = True\n",
    "\n",
    "if USE_SYNTHETIC:\n",
    "    rng = np.random.default_rng(42)\n",
    "    n = 1200\n",
    "    cape = rng.gamma(5.0, 250.0, size=n)\n",
    "    pwat = rng.normal(30, 8, size=n).clip(5, 70)\n",
    "    shear = rng.normal(15, 6, size=n).clip(0, 40)\n",
    "    z = -6.0 + 0.0025*cape + 0.06*pwat + 0.05*shear + 0.00002*cape*shear\n",
    "    p = 1/(1+np.exp(-z))\n",
    "    y = rng.binomial(1, p)\n",
    "    df = pd.DataFrame({'cape': cape, 'pwat': pwat, 'shear': shear, 'event': y})\n",
    "else:\n",
    "    df = pd.read_csv('../data/your_data.csv').dropna()\n",
    "    assert TARGET in df.columns\n",
    "    assert all(c in df.columns for c in FEATURES_FULL)\n",
    "    df = df[FEATURES_FULL + [TARGET]]\n",
    "df.head()"
   ]
  },
  {
   "cell_type": "markdown",
   "id": "f36eaa81",
   "metadata": {},
   "source": [
    "## 1) Train/Test Split"
   ]
  },
  {
   "cell_type": "code",
   "execution_count": 3,
   "id": "a1b515ad",
   "metadata": {},
   "outputs": [
    {
     "data": {
      "text/plain": [
       "(900, 300)"
      ]
     },
     "execution_count": 3,
     "metadata": {},
     "output_type": "execute_result"
    }
   ],
   "source": [
    "X_full = df[FEATURES_FULL].values\n",
    "X_reduced = df[FEATURES_REDUCED].values\n",
    "y = df[TARGET].values.astype(int)\n",
    "\n",
    "# YOUR CODE HERE\n",
    "Xf_train, Xf_test, yf_train, yf_test = \\\n",
    "    train_test_split(X_full, y, test_size=0.25, random_state=0, stratify=y)\n",
    "Xr_train, Xr_test, yr_train, yr_test = \\\n",
    "    train_test_split(X_reduced, y, test_size=0.25, random_state=0, stratify=y)\n",
    "\n",
    "len(Xf_train), len(Xf_test)"
   ]
  },
  {
   "cell_type": "markdown",
   "id": "6c372d6d",
   "metadata": {},
   "source": [
    "## 2) Fit Both Logistic Regression Models"
   ]
  },
  {
   "cell_type": "code",
   "execution_count": 4,
   "id": "5b6cd8d0",
   "metadata": {},
   "outputs": [
    {
     "data": {
      "text/plain": [
       "(array([[0.00294362, 0.0514564 , 0.0928135 ]]), array([[0.00269818]]))"
      ]
     },
     "execution_count": 4,
     "metadata": {},
     "output_type": "execute_result"
    }
   ],
   "source": [
    "clf_full = LogisticRegression(max_iter=200).fit(Xf_train, yf_train)\n",
    "clf_reduced = LogisticRegression(max_iter=200).fit(Xr_train, yr_train)\n",
    "\n",
    "yprob_full = clf_full.predict_proba(Xf_test)[:, 1]\n",
    "yprob_reduced = clf_reduced.predict_proba(Xr_test)[:, 1]\n",
    "\n",
    "clf_full.coef_, clf_reduced.coef_"
   ]
  },
  {
   "cell_type": "markdown",
   "id": "b9b64f57",
   "metadata": {},
   "source": [
    "## 3) Metrics at Threshold 0.5"
   ]
  },
  {
   "cell_type": "code",
   "execution_count": 5,
   "id": "c2ca0662",
   "metadata": {},
   "outputs": [
    {
     "name": "stdout",
     "output_type": "stream",
     "text": [
      "Full metrics\n",
      "Accuracy:   0.723\n",
      "Precision:  0.678\n",
      "Recall:     0.733\n",
      "\n",
      "Reduced metrics\n",
      "Accuracy:   0.717\n",
      "Precision:  0.651\n",
      "Recall:     0.736\n"
     ]
    }
   ],
   "source": [
    "thr = 0.5\n",
    "ypred_full = (yprob_full >= thr).astype(int)\n",
    "ypred_reduced = (yprob_reduced >= thr).astype(int)\n",
    "\n",
    "# TODO: Compute Accuracy, Precision, Recall for both models at threshold 0.5\n",
    "\n",
    "print(\"Full metrics\")\n",
    "print(f\"Accuracy:  {accuracy_score(ypred_full, yf_test): .3f}\")\n",
    "print(f\"Precision: {precision_score(ypred_full, yf_test): .3f}\")\n",
    "print(f\"Recall:    {recall_score(ypred_full, yf_test): .3f}\\n\")\n",
    "\n",
    "print(\"Reduced metrics\")\n",
    "print(f\"Accuracy:  {accuracy_score(ypred_reduced, yr_test): .3f}\")\n",
    "print(f\"Precision: {precision_score(ypred_reduced, yr_test): .3f}\")\n",
    "print(f\"Recall:    {recall_score(ypred_reduced, yr_test): .3f}\")"
   ]
  },
  {
   "cell_type": "markdown",
   "id": "b0efddf6",
   "metadata": {},
   "source": [
    "## 4) Plot ROC and Precision–Recall Curves"
   ]
  },
  {
   "cell_type": "code",
   "execution_count": 6,
   "id": "a6f4365c",
   "metadata": {},
   "outputs": [
    {
     "name": "stdout",
     "output_type": "stream",
     "text": [
      "Full data ROC curve and PR curve\n",
      "ROC AUC:  0.722\n",
      "PR AUC:  0.297\n"
     ]
    },
    {
     "data": {
      "image/png": "[encoded data removed]",
      "text/plain": [
       "<Figure size 640x480 with 1 Axes>"
      ]
     },
     "metadata": {},
     "output_type": "display_data"
    },
    {
     "data": {
      "image/png": "[encoded data removed]",
      "text/plain": [
       "<Figure size 640x480 with 1 Axes>"
      ]
     },
     "metadata": {},
     "output_type": "display_data"
    }
   ],
   "source": [
    "# TODO: Plot ROC and PR curves for both models on shared axes\n",
    "# accuracy_score, precision_score, recall_score,\n",
    "# RocCurveDisplay, PrecisionRecallDisplay\n",
    "\n",
    "print(\"Full data ROC curve and PR curve\")\n",
    "# I used the documentation here for the ROC Curve:\n",
    "# https://scikit-learn.org/stable/modules/generated/sklearn.metrics.RocCurveDisplay.html\n",
    "fpr, tpr, _ = roc_curve(yf_test, ypred_full)\n",
    "roc_auc = auc(fpr, tpr)\n",
    "RocCurveDisplay(fpr=fpr, tpr=tpr, roc_auc=roc_auc).plot()\n",
    "\n",
    "# and precision and recall I took from here:\n",
    "# https://scikit-learn.org/stable/modules/generated/sklearn.metrics.PrecisionRecallDisplay.html\n",
    "precision, recall, _ = precision_recall_curve(yf_test, ypred_full)\n",
    "pr_auc = auc(precision, recall)\n",
    "PrecisionRecallDisplay(precision=precision, recall=recall).plot()\n",
    "print(f\"ROC AUC: {roc_auc: .3f}\")\n",
    "print(f\"PR AUC: {pr_auc: .3f}\")"
   ]
  },
  {
   "cell_type": "code",
   "execution_count": 7,
   "id": "96a2829f-2112-4226-8a92-2b805b30f235",
   "metadata": {},
   "outputs": [
    {
     "name": "stdout",
     "output_type": "stream",
     "text": [
      "Reduced data ROC curve and PR curve\n",
      "ROC AUC:  0.715\n",
      "PR AUC:  0.292\n"
     ]
    },
    {
     "data": {
      "image/png": "[encoded data removed]",
      "text/plain": [
       "<Figure size 640x480 with 1 Axes>"
      ]
     },
     "metadata": {},
     "output_type": "display_data"
    },
    {
     "data": {
      "image/png": "[encoded data removed]",
      "text/plain": [
       "<Figure size 640x480 with 1 Axes>"
      ]
     },
     "metadata": {},
     "output_type": "display_data"
    }
   ],
   "source": [
    "# reduced data\n",
    "print(\"Reduced data ROC curve and PR curve\")\n",
    "fpr, tpr, _ = roc_curve(yr_test, ypred_reduced)\n",
    "roc_auc = auc(fpr, tpr)\n",
    "RocCurveDisplay(fpr=fpr, tpr=tpr, roc_auc=roc_auc).plot()\n",
    "precision, recall, _ = precision_recall_curve(yr_test, ypred_reduced)\n",
    "pr_auc = auc(precision, recall)\n",
    "PrecisionRecallDisplay(precision=precision, recall=recall).plot()\n",
    "print(f\"ROC AUC: {roc_auc: .3f}\")\n",
    "print(f\"PR AUC: {pr_auc: .3f}\")"
   ]
  },
  {
   "cell_type": "markdown",
   "id": "9daed4eb",
   "metadata": {},
   "source": [
    "## 5) Interpretation\n",
    "\n",
    "1. Which model has higher **ROC-AUC** and **PR-AUC**? What does this imply about `PWAT`?  \n",
    "2. Compare **accuracy**, **precision**, and **recall** for both models.  \n",
    "   - Which model would you choose to **maximize event detection** (recall)?  \n",
    "   - Which model would you choose to **minimize false alarms** (precision)?  "
   ]
  },
  {
   "cell_type": "markdown",
   "id": "8c3e08f4",
   "metadata": {},
   "source": [
    "The full model has the following values:\n",
    "- ROC-AUC:   0.722\n",
    "- PR-AUC:    0.297\n",
    "- Precision: 0.723\n",
    "- Recall:    0.678\n",
    "- Accuracy:  0.733\n",
    "\n",
    "The reduced model has the following values:\n",
    "- ROC-AUC:   0.715\n",
    "- PR-AUC:    0.292\n",
    "- Precision: 0.717\n",
    "- Recall:    0.651\n",
    "- Accuracy:  0.736\n",
    "\n",
    "1. Which model has higher **ROC-AUC** and **PR-AUC**? What does this imply about `PWAT`?\n",
    "   The full model has slightly better AUC's than the reduced model. This tells us that there is some information in the shear and PWAT that allows for more positive events to be detected.\n",
    "\n",
    "2. The accuracy, recall and precision metrics are listed above for the two models.\n",
    "\n",
    "The model that maximizes the event detection is the full model, more positive events are correctly identified for this event than the reduced model. Meanwhile the precision of the full model is slightly higher than the reduced model as well, precision is the \n",
    "\n",
    "That being said, the model that maximizes event detection, the recall, ratio of true positives over all of the positively identified cases, since this is higher we know there is a lower rate of false positive cases in the full model."
   ]
  }
 ],
 "metadata": {
  "kernelspec": {
   "display_name": "Python 3 (ipykernel)",
   "language": "python",
   "name": "python3"
  },
  "language_info": {
   "codemirror_mode": {
    "name": "ipython",
    "version": 3
   },
   "file_extension": ".py",
   "mimetype": "text/x-python",
   "name": "python",
   "nbconvert_exporter": "python",
   "pygments_lexer": "ipython3",
   "version": "3.14.0"
  }
 },
 "nbformat": 4,
 "nbformat_minor": 5
}
