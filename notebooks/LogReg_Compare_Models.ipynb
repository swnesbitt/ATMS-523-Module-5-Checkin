{
 "cells": [
  {
   "cell_type": "markdown",
   "id": "20200f80",
   "metadata": {},
   "source": [
    "# Homework: Compare Two Logistic Regression Models (Weather & Climate)\n",
    "\n",
    "**Compare the performance of two logistic regression models**  \n",
    "- **Model A (Full):** `CAPE`, `PWAT`, `Shear`  \n",
    "- **Model B (Reduced):** `CAPE`, only\n",
    "\n",
    "Does the three parameter model work better than the one parameter model?\n",
    "\n",
    "**Tasks**\n",
    "1. Split data into train/test.\n",
    "2. Fit both models.\n",
    "3. Compute **accuracy**, **precision**, **recall** at threshold 0.5.\n",
    "4. Plot **ROC** and **Precision–Recall** curves for both models on the same figures.\n",
    "5. Answer the interpretation questions.\n"
   ]
  },
  {
   "cell_type": "code",
   "execution_count": 1,
   "id": "b72aafdf",
   "metadata": {},
   "outputs": [
    {
     "data": {
      "text/html": [
       "<div>\n",
       "<style scoped>\n",
       "    .dataframe tbody tr th:only-of-type {\n",
       "        vertical-align: middle;\n",
       "    }\n",
       "\n",
       "    .dataframe tbody tr th {\n",
       "        vertical-align: top;\n",
       "    }\n",
       "\n",
       "    .dataframe thead th {\n",
       "        text-align: right;\n",
       "    }\n",
       "</style>\n",
       "<table border=\"1\" class=\"dataframe\">\n",
       "  <thead>\n",
       "    <tr style=\"text-align: right;\">\n",
       "      <th></th>\n",
       "      <th>cape</th>\n",
       "      <th>pwat</th>\n",
       "      <th>shear</th>\n",
       "      <th>event</th>\n",
       "    </tr>\n",
       "  </thead>\n",
       "  <tbody>\n",
       "    <tr>\n",
       "      <th>0</th>\n",
       "      <td>1339.091679</td>\n",
       "      <td>24.846334</td>\n",
       "      <td>4.350342</td>\n",
       "      <td>1</td>\n",
       "    </tr>\n",
       "    <tr>\n",
       "      <th>1</th>\n",
       "      <td>1620.699558</td>\n",
       "      <td>34.709626</td>\n",
       "      <td>23.376549</td>\n",
       "      <td>1</td>\n",
       "    </tr>\n",
       "    <tr>\n",
       "      <th>2</th>\n",
       "      <td>1237.079261</td>\n",
       "      <td>26.431445</td>\n",
       "      <td>20.809474</td>\n",
       "      <td>1</td>\n",
       "    </tr>\n",
       "    <tr>\n",
       "      <th>3</th>\n",
       "      <td>1157.616507</td>\n",
       "      <td>37.841527</td>\n",
       "      <td>29.506833</td>\n",
       "      <td>1</td>\n",
       "    </tr>\n",
       "    <tr>\n",
       "      <th>4</th>\n",
       "      <td>1708.955858</td>\n",
       "      <td>32.249385</td>\n",
       "      <td>6.662860</td>\n",
       "      <td>1</td>\n",
       "    </tr>\n",
       "  </tbody>\n",
       "</table>\n",
       "</div>"
      ],
      "text/plain": [
       "          cape       pwat      shear  event\n",
       "0  1339.091679  24.846334   4.350342      1\n",
       "1  1620.699558  34.709626  23.376549      1\n",
       "2  1237.079261  26.431445  20.809474      1\n",
       "3  1157.616507  37.841527  29.506833      1\n",
       "4  1708.955858  32.249385   6.662860      1"
      ]
     },
     "execution_count": 1,
     "metadata": {},
     "output_type": "execute_result"
    }
   ],
   "source": [
    "# Imports\n",
    "import numpy as np\n",
    "import pandas as pd\n",
    "import matplotlib.pyplot as plt\n",
    "from sklearn.model_selection import train_test_split\n",
    "from sklearn.linear_model import LogisticRegression\n",
    "from sklearn.metrics import (accuracy_score, precision_score, recall_score,\n",
    "                             RocCurveDisplay, PrecisionRecallDisplay)\n",
    "\n",
    "FEATURES_FULL = ['cape','pwat','shear']\n",
    "FEATURES_REDUCED = ['cape']\n",
    "TARGET = 'event'\n",
    "\n",
    "# Synthetic fallback\n",
    "USE_SYNTHETIC = True\n",
    "\n",
    "if USE_SYNTHETIC:\n",
    "    rng = np.random.default_rng(42)\n",
    "    n = 1200\n",
    "    cape  = rng.gamma(5.0, 250.0, size=n)\n",
    "    pwat  = rng.normal(30, 8, size=n).clip(5, 70)\n",
    "    shear = rng.normal(15, 6, size=n).clip(0, 40)\n",
    "    z = -6.0 + 0.0025*cape + 0.06*pwat + 0.05*shear + 0.00002*cape*shear\n",
    "    p = 1/(1+np.exp(-z))\n",
    "    y = rng.binomial(1, p)\n",
    "    df = pd.DataFrame({'cape':cape, 'pwat':pwat, 'shear':shear, 'event':y})\n",
    "else:\n",
    "    df = pd.read_csv('../data/your_data.csv').dropna()\n",
    "    assert TARGET in df.columns\n",
    "    assert all(c in df.columns for c in FEATURES_FULL)\n",
    "    df = df[FEATURES_FULL + [TARGET]]\n",
    "df.head()"
   ]
  },
  {
   "cell_type": "markdown",
   "id": "f36eaa81",
   "metadata": {},
   "source": [
    "## 1) Train/Test Split"
   ]
  },
  {
   "cell_type": "code",
   "execution_count": 2,
   "id": "a1b515ad",
   "metadata": {},
   "outputs": [
    {
     "data": {
      "text/plain": [
       "(900, 300)"
      ]
     },
     "execution_count": 2,
     "metadata": {},
     "output_type": "execute_result"
    }
   ],
   "source": [
    "# TODO: Split into train/test for both feature sets using SAME random_state and stratify by y\n",
    "X_full = df[FEATURES_FULL].values\n",
    "X_reduced = df[FEATURES_REDUCED].values\n",
    "y = df[TARGET].values.astype(int)\n",
    "\n",
    "# YOUR CODE HERE\n",
    "Xf_train, Xf_test, yf_train, yf_test = train_test_split(X_full, y, test_size=0.25, random_state=0, stratify=y)\n",
    "Xr_train, Xr_test, yr_train, yr_test = train_test_split(X_reduced, y, test_size=0.25, random_state=0, stratify=y)\n",
    "\n",
    "len(Xf_train), len(Xf_test)"
   ]
  },
  {
   "cell_type": "markdown",
   "id": "6c372d6d",
   "metadata": {},
   "source": [
    "## 2) Fit Both Logistic Regression Models"
   ]
  },
  {
   "cell_type": "code",
   "execution_count": 3,
   "id": "5b6cd8d0",
   "metadata": {},
   "outputs": [
    {
     "data": {
      "text/plain": [
       "(array([[0.00294362, 0.0514564 , 0.0928135 ]]), array([[0.00269818]]))"
      ]
     },
     "execution_count": 3,
     "metadata": {},
     "output_type": "execute_result"
    }
   ],
   "source": [
    "# TODO: Fit two LogisticRegression models (full and reduced). Use max_iter >= 200.\n",
    "# YOUR CODE HERE\n",
    "clf_full = LogisticRegression(max_iter=200).fit(Xf_train, yf_train)\n",
    "clf_reduced = LogisticRegression(max_iter=200).fit(Xr_train, yr_train)\n",
    "\n",
    "yprob_full = clf_full.predict_proba(Xf_test)[:,1]\n",
    "yprob_reduced = clf_reduced.predict_proba(Xr_test)[:,1]\n",
    "\n",
    "clf_full.coef_, clf_reduced.coef_"
   ]
  },
  {
   "cell_type": "markdown",
   "id": "b9b64f57",
   "metadata": {},
   "source": [
    "## 3) Metrics at Threshold 0.5"
   ]
  },
  {
   "cell_type": "code",
   "execution_count": null,
   "id": "c2ca0662",
   "metadata": {},
   "outputs": [
    {
     "name": "stdout",
     "output_type": "stream",
     "text": [
      "Full Model:\n",
      "Accuracy: 0.723, Precision: 0.733, Recall: 0.678\n",
      "\n",
      "Reduced Model:\n",
      "Accuracy: 0.717, Precision: 0.736, Recall: 0.651\n"
     ]
    }
   ],
   "source": [
    "thr = 0.5\n",
    "ypred_full = (yprob_full >= thr).astype(int)\n",
    "ypred_reduced = (yprob_reduced >= thr).astype(int)\n",
    "\n",
    "# TODO: Compute Accuracy, Precision, Recall for both models at threshold 0.5\n",
    "\n",
    "# Compute metrics for full model\n",
    "acc_full = accuracy_score(yf_test, ypred_full)\n",
    "prec_full = precision_score(yf_test, ypred_full)\n",
    "rec_full = recall_score(yf_test, ypred_full)\n",
    "\n",
    "# Compute metrics for reduced model\n",
    "acc_reduced = accuracy_score(yr_test, ypred_reduced)\n",
    "prec_reduced = precision_score(yr_test, ypred_reduced)\n",
    "rec_reduced = recall_score(yr_test, ypred_reduced)\n",
    "\n",
    "# Display results\n",
    "print(\"Full Model:\")\n",
    "print(f\"Accuracy: {acc_full:.3f}, Precision: {prec_full:.3f}, Recall: {rec_full:.3f}\")\n",
    "\n",
    "print(\"\\nReduced Model:\")\n",
    "print(f\"Accuracy: {acc_reduced:.3f}, Precision: {prec_reduced:.3f}, Recall: {rec_reduced:.3f}\")\n"
   ]
  },
  {
   "cell_type": "markdown",
   "id": "b0efddf6",
   "metadata": {},
   "source": [
    "## 4) Plot ROC and Precision–Recall Curves"
   ]
  },
  {
   "cell_type": "code",
   "execution_count": 6,
   "id": "a6f4365c",
   "metadata": {},
   "outputs": [
    {
     "data": {
      "image/png": "[encoded data removed]",
      "text/plain": [
       "<Figure size 600x500 with 1 Axes>"
      ]
     },
     "metadata": {},
     "output_type": "display_data"
    },
    {
     "data": {
      "image/png": "[encoded data removed]",
      "text/plain": [
       "<Figure size 600x500 with 1 Axes>"
      ]
     },
     "metadata": {},
     "output_type": "display_data"
    }
   ],
   "source": [
    "# TODO: Plot ROC and PR curves for both models on shared axes\n",
    "\n",
    "# ROC Curve\n",
    "fig, ax_roc = plt.subplots(figsize=(6, 5))\n",
    "RocCurveDisplay.from_predictions(yf_test, yprob_full, ax=ax_roc, name='Full Model')\n",
    "RocCurveDisplay.from_predictions(yr_test, yprob_reduced, ax=ax_roc, name='Reduced Model')\n",
    "ax_roc.set_title('ROC Curve')\n",
    "plt.tight_layout()\n",
    "plt.show()\n",
    "\n",
    "# Precision-Recall Curve\n",
    "fig, ax_pr = plt.subplots(figsize=(6, 5))\n",
    "PrecisionRecallDisplay.from_predictions(yf_test, yprob_full, ax=ax_pr, name='Full Model')\n",
    "PrecisionRecallDisplay.from_predictions(yr_test, yprob_reduced, ax=ax_pr, name='Reduced Model')\n",
    "ax_pr.set_title('Precision-Recall Curve')\n",
    "plt.tight_layout()\n",
    "plt.show()\n"
   ]
  },
  {
   "cell_type": "markdown",
   "id": "9daed4eb",
   "metadata": {},
   "source": [
    "## 5) Interpretation\n",
    "\n",
    "### 1. Which model has higher **ROC-AUC** and **PR-AUC**? What does this imply about `PWAT`?   "
   ]
  },
  {
   "cell_type": "code",
   "execution_count": 7,
   "id": "87eafbce",
   "metadata": {},
   "outputs": [
    {
     "name": "stdout",
     "output_type": "stream",
     "text": [
      "Full Model:\n",
      "ROC-AUC: 0.812, PR-AUC: 0.818\n",
      "\n",
      "Reduced Model:\n",
      "ROC-AUC: 0.791, PR-AUC: 0.798\n"
     ]
    }
   ],
   "source": [
    "from sklearn.metrics import roc_auc_score, average_precision_score\n",
    "\n",
    "# ROC-AUC\n",
    "roc_auc_full = roc_auc_score(yf_test, yprob_full)\n",
    "roc_auc_reduced = roc_auc_score(yr_test, yprob_reduced)\n",
    "\n",
    "# PR-AUC (Average Precision)\n",
    "pr_auc_full = average_precision_score(yf_test, yprob_full)\n",
    "pr_auc_reduced = average_precision_score(yr_test, yprob_reduced)\n",
    "\n",
    "print(\"Full Model:\")\n",
    "print(f\"ROC-AUC: {roc_auc_full:.3f}, PR-AUC: {pr_auc_full:.3f}\")\n",
    "\n",
    "print(\"\\nReduced Model:\")\n",
    "print(f\"ROC-AUC: {roc_auc_reduced:.3f}, PR-AUC: {pr_auc_reduced:.3f}\")\n"
   ]
  },
  {
   "cell_type": "markdown",
   "id": "8c3e08f4",
   "metadata": {},
   "source": [
    "The full model outperforms the reduced model on both ROC-AUC and PR-AUC.\n",
    "    This means the full model is better at:\n",
    "   -  Ranking predictions (ROC-AUC): It more effectively separates events from non-events.\n",
    "   -  Handling class imbalance (PR-AUC): It maintains stronger precision and recall across thresholds."
   ]
  },
  {
   "cell_type": "markdown",
   "id": "27ae8b61",
   "metadata": {},
   "source": [
    "### 2. Compare **accuracy**, **precision**, and **recall** for both models.  \n",
    "   - Which model would you choose to **maximize event detection** (recall)?  \n",
    "   - Which model would you choose to **minimize false alarms** (precision)? "
   ]
  },
  {
   "cell_type": "code",
   "execution_count": 8,
   "id": "fad31eed",
   "metadata": {},
   "outputs": [
    {
     "name": "stdout",
     "output_type": "stream",
     "text": [
      "Full Model:\n",
      "Accuracy: 0.723, Precision: 0.733, Recall: 0.678\n",
      "\n",
      "Reduced Model:\n",
      "Accuracy: 0.717, Precision: 0.736, Recall: 0.651\n"
     ]
    }
   ],
   "source": [
    "print(\"Full Model:\")\n",
    "print(f\"Accuracy: {acc_full:.3f}, Precision: {prec_full:.3f}, Recall: {rec_full:.3f}\")\n",
    "\n",
    "print(\"\\nReduced Model:\")\n",
    "print(f\"Accuracy: {acc_reduced:.3f}, Precision: {prec_reduced:.3f}, Recall: {rec_reduced:.3f}\")\n"
   ]
  },
  {
   "cell_type": "markdown",
   "id": "c6f7e834",
   "metadata": {},
   "source": [
    "**Accuracy** is slightly higher for the full model, but the difference is small.\n",
    "\n",
    "**Precision** is slightly higher for the reduced model — it makes fewer false alarms.\n",
    "\n",
    "**Recall** is higher for the full model — it catches more true events.\n",
    "\n",
    "- To maximize event detection (recall): ➤ Choose the full model. It captures more true events, which is critical if missing an event is costly (e.g., severe weather alerts).\n",
    "\n",
    "- To minimize false alarms (precision): ➤ Choose the reduced model. It’s slightly more conservative, predicting events only when more confident.\n"
   ]
  }
 ],
 "metadata": {
  "kernelspec": {
   "display_name": "Python 3",
   "language": "python",
   "name": "python3"
  },
  "language_info": {
   "codemirror_mode": {
    "name": "ipython",
    "version": 3
   },
   "file_extension": ".py",
   "mimetype": "text/x-python",
   "name": "python",
   "nbconvert_exporter": "python",
   "pygments_lexer": "ipython3",
   "version": "3.13.7"
  }
 },
 "nbformat": 4,
 "nbformat_minor": 5
}
