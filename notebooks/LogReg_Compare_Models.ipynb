{
 "cells": [
  {
   "cell_type": "markdown",
   "id": "20200f80",
   "metadata": {},
   "source": [
    "# Homework: Compare Two Logistic Regression Models (Weather & Climate)\n",
    "\n",
    "**Compare the performance of two logistic regression models**  \n",
    "- **Model A (Full):** `CAPE`, `PWAT`, `Shear`  \n",
    "- **Model B (Reduced):** `CAPE`, only\n",
    "\n",
    "Does the three parameter model work better than the one parameter model?\n",
    "\n",
    "**Tasks**\n",
    "1. Split data into train/test.\n",
    "2. Fit both models.\n",
    "3. Compute **accuracy**, **precision**, **recall** at threshold 0.5.\n",
    "4. Plot **ROC** and **Precision–Recall** curves for both models on the same figures.\n",
    "5. Answer the interpretation questions.\n"
   ]
  },
  {
   "cell_type": "code",
   "execution_count": 2,
   "id": "b72aafdf",
   "metadata": {},
   "outputs": [
    {
     "data": {
      "application/vnd.microsoft.datawrangler.viewer.v0+json": {
       "columns": [
        {
         "name": "index",
         "rawType": "int64",
         "type": "integer"
        },
        {
         "name": "cape",
         "rawType": "float64",
         "type": "float"
        },
        {
         "name": "pwat",
         "rawType": "float64",
         "type": "float"
        },
        {
         "name": "shear",
         "rawType": "float64",
         "type": "float"
        },
        {
         "name": "event",
         "rawType": "int64",
         "type": "integer"
        }
       ],
       "ref": "05e80dac-4704-4a39-a81d-f2a899db23d1",
       "rows": [
        [
         "0",
         "1339.0916793357767",
         "24.846333996908413",
         "4.350341732527639",
         "1"
        ],
        [
         "1",
         "1620.699558174835",
         "34.70962622572121",
         "23.37654941546846",
         "1"
        ],
        [
         "2",
         "1237.0792612728233",
         "26.43144497232933",
         "20.809473554227765",
         "1"
        ],
        [
         "3",
         "1157.6165074784526",
         "37.84152697337458",
         "29.506833216698674",
         "1"
        ],
        [
         "4",
         "1708.9558577659147",
         "32.249385325147834",
         "6.662859886691244",
         "1"
        ]
       ],
       "shape": {
        "columns": 4,
        "rows": 5
       }
      },
      "text/html": [
       "<div>\n",
       "<style scoped>\n",
       "    .dataframe tbody tr th:only-of-type {\n",
       "        vertical-align: middle;\n",
       "    }\n",
       "\n",
       "    .dataframe tbody tr th {\n",
       "        vertical-align: top;\n",
       "    }\n",
       "\n",
       "    .dataframe thead th {\n",
       "        text-align: right;\n",
       "    }\n",
       "</style>\n",
       "<table border=\"1\" class=\"dataframe\">\n",
       "  <thead>\n",
       "    <tr style=\"text-align: right;\">\n",
       "      <th></th>\n",
       "      <th>cape</th>\n",
       "      <th>pwat</th>\n",
       "      <th>shear</th>\n",
       "      <th>event</th>\n",
       "    </tr>\n",
       "  </thead>\n",
       "  <tbody>\n",
       "    <tr>\n",
       "      <th>0</th>\n",
       "      <td>1339.091679</td>\n",
       "      <td>24.846334</td>\n",
       "      <td>4.350342</td>\n",
       "      <td>1</td>\n",
       "    </tr>\n",
       "    <tr>\n",
       "      <th>1</th>\n",
       "      <td>1620.699558</td>\n",
       "      <td>34.709626</td>\n",
       "      <td>23.376549</td>\n",
       "      <td>1</td>\n",
       "    </tr>\n",
       "    <tr>\n",
       "      <th>2</th>\n",
       "      <td>1237.079261</td>\n",
       "      <td>26.431445</td>\n",
       "      <td>20.809474</td>\n",
       "      <td>1</td>\n",
       "    </tr>\n",
       "    <tr>\n",
       "      <th>3</th>\n",
       "      <td>1157.616507</td>\n",
       "      <td>37.841527</td>\n",
       "      <td>29.506833</td>\n",
       "      <td>1</td>\n",
       "    </tr>\n",
       "    <tr>\n",
       "      <th>4</th>\n",
       "      <td>1708.955858</td>\n",
       "      <td>32.249385</td>\n",
       "      <td>6.662860</td>\n",
       "      <td>1</td>\n",
       "    </tr>\n",
       "  </tbody>\n",
       "</table>\n",
       "</div>"
      ],
      "text/plain": [
       "          cape       pwat      shear  event\n",
       "0  1339.091679  24.846334   4.350342      1\n",
       "1  1620.699558  34.709626  23.376549      1\n",
       "2  1237.079261  26.431445  20.809474      1\n",
       "3  1157.616507  37.841527  29.506833      1\n",
       "4  1708.955858  32.249385   6.662860      1"
      ]
     },
     "execution_count": 2,
     "metadata": {},
     "output_type": "execute_result"
    }
   ],
   "source": [
    "# Imports\n",
    "import numpy as np\n",
    "import pandas as pd\n",
    "import matplotlib.pyplot as plt\n",
    "from sklearn.model_selection import train_test_split\n",
    "from sklearn.linear_model import LogisticRegression\n",
    "from sklearn.metrics import (accuracy_score, precision_score, recall_score, \n",
    "                             average_precision_score, roc_auc_score,\n",
    "                             RocCurveDisplay, PrecisionRecallDisplay)\n",
    "\n",
    "FEATURES_FULL = ['cape','pwat','shear']\n",
    "FEATURES_REDUCED = ['cape']\n",
    "TARGET = 'event'\n",
    "\n",
    "# Synthetic fallback\n",
    "USE_SYNTHETIC = True\n",
    "\n",
    "if USE_SYNTHETIC:\n",
    "    rng = np.random.default_rng(42)\n",
    "    n = 1200\n",
    "    cape  = rng.gamma(5.0, 250.0, size=n)\n",
    "    pwat  = rng.normal(30, 8, size=n).clip(5, 70)\n",
    "    shear = rng.normal(15, 6, size=n).clip(0, 40)\n",
    "    z = -6.0 + 0.0025*cape + 0.06*pwat + 0.05*shear + 0.00002*cape*shear\n",
    "    p = 1/(1+np.exp(-z))\n",
    "    y = rng.binomial(1, p)\n",
    "    df = pd.DataFrame({'cape':cape, 'pwat':pwat, 'shear':shear, 'event':y})\n",
    "else:\n",
    "    df = pd.read_csv('../data/your_data.csv').dropna()\n",
    "    assert TARGET in df.columns\n",
    "    assert all(c in df.columns for c in FEATURES_FULL)\n",
    "    df = df[FEATURES_FULL + [TARGET]]\n",
    "df.head()"
   ]
  },
  {
   "cell_type": "markdown",
   "id": "f36eaa81",
   "metadata": {},
   "source": [
    "## 1) Train/Test Split"
   ]
  },
  {
   "cell_type": "code",
   "execution_count": 4,
   "id": "a1b515ad",
   "metadata": {},
   "outputs": [
    {
     "data": {
      "text/plain": [
       "(900, 300)"
      ]
     },
     "execution_count": 4,
     "metadata": {},
     "output_type": "execute_result"
    }
   ],
   "source": [
    "# TODO: Split into train/test for both feature sets using SAME random_state and stratify by y\n",
    "X_full = df[FEATURES_FULL].values\n",
    "X_reduced = df[FEATURES_REDUCED].values\n",
    "y = df[TARGET].values.astype(int)\n",
    "\n",
    "# YOUR CODE HERE\n",
    "Xf_train, Xf_test, yf_train, yf_test = train_test_split(X_full, y, test_size=0.25, random_state=0, stratify=y)\n",
    "Xr_train, Xr_test, yr_train, yr_test = train_test_split(X_reduced, y, test_size=0.25, random_state=0, stratify=y)\n",
    "\n",
    "len(Xf_train), len(Xf_test)"
   ]
  },
  {
   "cell_type": "markdown",
   "id": "6c372d6d",
   "metadata": {},
   "source": [
    "## 2) Fit Both Logistic Regression Models"
   ]
  },
  {
   "cell_type": "code",
   "execution_count": 5,
   "id": "5b6cd8d0",
   "metadata": {},
   "outputs": [
    {
     "data": {
      "text/plain": [
       "(array([[0.00294362, 0.0514564 , 0.0928135 ]]), array([[0.00269818]]))"
      ]
     },
     "execution_count": 5,
     "metadata": {},
     "output_type": "execute_result"
    }
   ],
   "source": [
    "# TODO: Fit two LogisticRegression models (full and reduced). Use max_iter >= 200.\n",
    "# YOUR CODE HERE\n",
    "clf_full = LogisticRegression(max_iter=200).fit(Xf_train, yf_train)\n",
    "clf_reduced = LogisticRegression(max_iter=200).fit(Xr_train, yr_train)\n",
    "\n",
    "yprob_full = clf_full.predict_proba(Xf_test)[:,1]\n",
    "yprob_reduced = clf_reduced.predict_proba(Xr_test)[:,1]\n",
    "\n",
    "clf_full.coef_, clf_reduced.coef_"
   ]
  },
  {
   "cell_type": "markdown",
   "id": "b9b64f57",
   "metadata": {},
   "source": [
    "## 3) Metrics at Threshold 0.5"
   ]
  },
  {
   "cell_type": "code",
   "execution_count": 7,
   "id": "c2ca0662",
   "metadata": {},
   "outputs": [
    {
     "name": "stdout",
     "output_type": "stream",
     "text": [
      "Full - Accuracy:  0.723\n",
      "Precision: 0.733\n",
      "Recall:    0.678\n",
      "Reduced - Accuracy:  0.717\n",
      "Precision: 0.736\n",
      "Recall:    0.651\n"
     ]
    }
   ],
   "source": [
    "thr = 0.5\n",
    "ypred_full = (yprob_full >= thr).astype(int)\n",
    "ypred_reduced = (yprob_reduced >= thr).astype(int)\n",
    "\n",
    "acc_full = accuracy_score(yf_test, ypred_full)\n",
    "prec_full = precision_score(yf_test, ypred_full, zero_division=0)\n",
    "rec_full = recall_score(yf_test, ypred_full, zero_division=0)\n",
    "\n",
    "acc_reduced = accuracy_score(yr_test, ypred_reduced)\n",
    "prec_reduced = precision_score(yr_test, ypred_reduced, zero_division=0)\n",
    "rec_reduced = recall_score(yr_test, ypred_reduced, zero_division=0)\n",
    "\n",
    "print(f\"Full - Accuracy:  {acc_full:.3f}\\nPrecision: {prec_full:.3f}\\nRecall:    {rec_full:.3f}\")\n",
    "print(f\"Reduced - Accuracy:  {acc_reduced:.3f}\\nPrecision: {prec_reduced:.3f}\\nRecall:    {rec_reduced:.3f}\")\n",
    "# TODO: Compute Accuracy, Precision, Recall for both models at threshold 0.5 - DONE"
   ]
  },
  {
   "cell_type": "markdown",
   "id": "b0efddf6",
   "metadata": {},
   "source": [
    "## 4) Plot ROC and Precision–Recall Curves"
   ]
  },
  {
   "cell_type": "code",
   "execution_count": 9,
   "id": "a6f4365c",
   "metadata": {},
   "outputs": [
    {
     "data": {
      "image/png": "[encoded data removed]",
      "text/plain": [
       "<Figure size 640x480 with 1 Axes>"
      ]
     },
     "metadata": {},
     "output_type": "display_data"
    },
    {
     "data": {
      "image/png": "[encoded data removed]",
      "text/plain": [
       "<Figure size 640x480 with 1 Axes>"
      ]
     },
     "metadata": {},
     "output_type": "display_data"
    }
   ],
   "source": [
    "# TODO: Plot ROC and PR curves for both models on shared axes\n",
    "\n",
    "fig, ax = plt.subplots()\n",
    "\n",
    "# ROC\n",
    "RocCurveDisplay.from_predictions(yf_test, yprob_full, name=\"Full\", ax=ax)\n",
    "RocCurveDisplay.from_predictions(yr_test, yprob_reduced, name=\"Reduced\", ax=ax)\n",
    "plt.title(\"ROC Curve Full vs. Reduced\")\n",
    "plt.show()\n",
    "\n",
    "# PR\n",
    "fig, ax = plt.subplots()\n",
    "PrecisionRecallDisplay.from_predictions(yf_test, yprob_full, name=\"Full\", ax=ax)\n",
    "PrecisionRecallDisplay.from_predictions(yr_test, yprob_reduced, name=\"Reduced\", ax=ax)\n",
    "plt.title(\"Precision–Recall Curve Full vs. Reduced\")\n",
    "plt.show()\n"
   ]
  },
  {
   "cell_type": "markdown",
   "id": "9daed4eb",
   "metadata": {},
   "source": [
    "## 5) Interpretation\n",
    "\n",
    "1. Which model has higher **ROC-AUC** and **PR-AUC**? What does this imply about `PWAT`?  \n",
    "2. Compare **accuracy**, **precision**, and **recall** for both models.  \n",
    "   - Which model would you choose to **maximize event detection** (recall)?  \n",
    "   - Which model would you choose to **minimize false alarms** (precision)?  "
   ]
  },
  {
   "cell_type": "markdown",
   "id": "8c3e08f4",
   "metadata": {},
   "source": []
  },
  {
   "cell_type": "code",
   "execution_count": 11,
   "id": "a111c8b7",
   "metadata": {},
   "outputs": [
    {
     "name": "stdout",
     "output_type": "stream",
     "text": [
      "0.812399928838285\n",
      "0.7911848425547054\n",
      "0.8182944000552541\n",
      "0.7981879391129133\n",
      "Full - Accuracy:  0.723\n",
      "Precision: 0.733\n",
      "Recall:    0.678\n",
      "Reduced - Accuracy:  0.717\n",
      "Precision: 0.736\n",
      "Recall:    0.651\n"
     ]
    }
   ],
   "source": [
    "# Checking area under the curve and PR area under the curve\n",
    "\n",
    "roc_auc_full = roc_auc_score(yf_test, yprob_full)\n",
    "roc_auc_reduced = roc_auc_score(yr_test, yprob_reduced)\n",
    "pr_auc_full = average_precision_score(yf_test, yprob_full)\n",
    "pr_auc_reduced = average_precision_score(yr_test, yprob_reduced)\n",
    "\n",
    "print(roc_auc_full)\n",
    "print(roc_auc_reduced)\n",
    "print(pr_auc_full)\n",
    "print(pr_auc_reduced)\n",
    "\n",
    "# Printing summary again\n",
    "\n",
    "print(f\"Full - Accuracy:  {acc_full:.3f}\\nPrecision: {prec_full:.3f}\\nRecall:    {rec_full:.3f}\")\n",
    "print(f\"Reduced - Accuracy:  {acc_reduced:.3f}\\nPrecision: {prec_reduced:.3f}\\nRecall:    {rec_reduced:.3f}\")"
   ]
  },
  {
   "cell_type": "markdown",
   "id": "ebc12e34",
   "metadata": {},
   "source": [
    "### 5 - Answers\n",
    "1. The full model has higher ROC-AUC and PR-AUC. This implies that PWAT is informative and add information above and beyond what is provided by just using CAPE\n",
    "2. The full model has slightly lower precision than the reduced model, but slightly better recall. Overall the full model seems better when considered across all measures. (Likely better to have better accuracy and recall but reduced precision, but this is a judgement call.)"
   ]
  },
  {
   "cell_type": "markdown",
   "id": "d6a8357d",
   "metadata": {},
   "source": []
  },
  {
   "cell_type": "markdown",
   "id": "a67f4f11",
   "metadata": {},
   "source": []
  }
 ],
 "metadata": {
  "kernelspec": {
   "display_name": "xarray-climate",
   "language": "python",
   "name": "python3"
  },
  "language_info": {
   "codemirror_mode": {
    "name": "ipython",
    "version": 3
   },
   "file_extension": ".py",
   "mimetype": "text/x-python",
   "name": "python",
   "nbconvert_exporter": "python",
   "pygments_lexer": "ipython3",
   "version": "3.13.7"
  }
 },
 "nbformat": 4,
 "nbformat_minor": 5
}
