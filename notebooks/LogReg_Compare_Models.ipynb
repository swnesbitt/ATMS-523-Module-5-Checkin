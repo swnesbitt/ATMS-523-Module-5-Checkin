{
 "cells": [
  {
   "cell_type": "markdown",
   "id": "20200f80",
   "metadata": {},
   "source": [
    "# Homework: Compare Two Logistic Regression Models (Weather & Climate)\n",
    "\n",
    "**Compare the performance of two logistic regression models**  \n",
    "- **Model A (Full):** `CAPE`, `PWAT`, `Shear`  \n",
    "- **Model B (Reduced):** `CAPE`, only\n",
    "\n",
    "Does the three parameter model work better than the one parameter model?\n",
    "\n",
    "**Tasks**\n",
    "1. Split data into train/test.\n",
    "2. Fit both models.\n",
    "3. Compute **accuracy**, **precision**, **recall** at threshold 0.5.\n",
    "4. Plot **ROC** and **Precision–Recall** curves for both models on the same figures.\n",
    "5. Answer the interpretation questions.\n"
   ]
  },
  {
   "cell_type": "code",
   "execution_count": 1,
   "id": "b72aafdf",
   "metadata": {},
   "outputs": [
    {
     "data": {
      "text/html": [
       "<div>\n",
       "<style scoped>\n",
       "    .dataframe tbody tr th:only-of-type {\n",
       "        vertical-align: middle;\n",
       "    }\n",
       "\n",
       "    .dataframe tbody tr th {\n",
       "        vertical-align: top;\n",
       "    }\n",
       "\n",
       "    .dataframe thead th {\n",
       "        text-align: right;\n",
       "    }\n",
       "</style>\n",
       "<table border=\"1\" class=\"dataframe\">\n",
       "  <thead>\n",
       "    <tr style=\"text-align: right;\">\n",
       "      <th></th>\n",
       "      <th>cape</th>\n",
       "      <th>pwat</th>\n",
       "      <th>shear</th>\n",
       "      <th>event</th>\n",
       "    </tr>\n",
       "  </thead>\n",
       "  <tbody>\n",
       "    <tr>\n",
       "      <th>0</th>\n",
       "      <td>1339.091679</td>\n",
       "      <td>24.846334</td>\n",
       "      <td>4.350342</td>\n",
       "      <td>1</td>\n",
       "    </tr>\n",
       "    <tr>\n",
       "      <th>1</th>\n",
       "      <td>1620.699558</td>\n",
       "      <td>34.709626</td>\n",
       "      <td>23.376549</td>\n",
       "      <td>1</td>\n",
       "    </tr>\n",
       "    <tr>\n",
       "      <th>2</th>\n",
       "      <td>1237.079261</td>\n",
       "      <td>26.431445</td>\n",
       "      <td>20.809474</td>\n",
       "      <td>1</td>\n",
       "    </tr>\n",
       "    <tr>\n",
       "      <th>3</th>\n",
       "      <td>1157.616507</td>\n",
       "      <td>37.841527</td>\n",
       "      <td>29.506833</td>\n",
       "      <td>1</td>\n",
       "    </tr>\n",
       "    <tr>\n",
       "      <th>4</th>\n",
       "      <td>1708.955858</td>\n",
       "      <td>32.249385</td>\n",
       "      <td>6.662860</td>\n",
       "      <td>1</td>\n",
       "    </tr>\n",
       "  </tbody>\n",
       "</table>\n",
       "</div>"
      ],
      "text/plain": [
       "          cape       pwat      shear  event\n",
       "0  1339.091679  24.846334   4.350342      1\n",
       "1  1620.699558  34.709626  23.376549      1\n",
       "2  1237.079261  26.431445  20.809474      1\n",
       "3  1157.616507  37.841527  29.506833      1\n",
       "4  1708.955858  32.249385   6.662860      1"
      ]
     },
     "execution_count": 1,
     "metadata": {},
     "output_type": "execute_result"
    }
   ],
   "source": [
    "# Imports\n",
    "import numpy as np\n",
    "import pandas as pd\n",
    "import matplotlib.pyplot as plt\n",
    "from sklearn.model_selection import train_test_split\n",
    "from sklearn.linear_model import LogisticRegression\n",
    "from sklearn.metrics import (accuracy_score, precision_score, recall_score,\n",
    "                             RocCurveDisplay, PrecisionRecallDisplay)\n",
    "\n",
    "FEATURES_FULL = ['cape','pwat','shear']\n",
    "FEATURES_REDUCED = ['cape']\n",
    "TARGET = 'event'\n",
    "\n",
    "# Synthetic fallback\n",
    "USE_SYNTHETIC = True\n",
    "\n",
    "if USE_SYNTHETIC:\n",
    "    rng = np.random.default_rng(42)\n",
    "    n = 1200\n",
    "    cape  = rng.gamma(5.0, 250.0, size=n)\n",
    "    pwat  = rng.normal(30, 8, size=n).clip(5, 70)\n",
    "    shear = rng.normal(15, 6, size=n).clip(0, 40)\n",
    "    z = -6.0 + 0.0025*cape + 0.06*pwat + 0.05*shear + 0.00002*cape*shear\n",
    "    p = 1/(1+np.exp(-z))\n",
    "    y = rng.binomial(1, p)\n",
    "    df = pd.DataFrame({'cape':cape, 'pwat':pwat, 'shear':shear, 'event':y})\n",
    "else:\n",
    "    df = pd.read_csv('../data/your_data.csv').dropna()\n",
    "    assert TARGET in df.columns\n",
    "    assert all(c in df.columns for c in FEATURES_FULL)\n",
    "    df = df[FEATURES_FULL + [TARGET]]\n",
    "df.head()"
   ]
  },
  {
   "cell_type": "markdown",
   "id": "f36eaa81",
   "metadata": {},
   "source": [
    "## 1) Train/Test Split"
   ]
  },
  {
   "cell_type": "code",
   "execution_count": 2,
   "id": "a1b515ad",
   "metadata": {},
   "outputs": [
    {
     "data": {
      "text/plain": [
       "(900, 300)"
      ]
     },
     "execution_count": 2,
     "metadata": {},
     "output_type": "execute_result"
    }
   ],
   "source": [
    "# TODO: Split into train/test for both feature sets using SAME random_state and stratify by y\n",
    "X_full = df[FEATURES_FULL].values\n",
    "X_reduced = df[FEATURES_REDUCED].values\n",
    "y = df[TARGET].values.astype(int)\n",
    "\n",
    "# YOUR CODE HERE\n",
    "Xf_train, Xf_test, yf_train, yf_test = train_test_split(X_full, y, test_size=0.25, random_state=0, stratify=y)\n",
    "Xr_train, Xr_test, yr_train, yr_test = train_test_split(X_reduced, y, test_size=0.25, random_state=0, stratify=y)\n",
    "\n",
    "len(Xf_train), len(Xf_test)"
   ]
  },
  {
   "cell_type": "markdown",
   "id": "6c372d6d",
   "metadata": {},
   "source": [
    "## 2) Fit Both Logistic Regression Models"
   ]
  },
  {
   "cell_type": "code",
   "execution_count": 3,
   "id": "5b6cd8d0",
   "metadata": {},
   "outputs": [
    {
     "data": {
      "text/plain": [
       "(array([[0.00294362, 0.0514564 , 0.0928135 ]]), array([[0.00269818]]))"
      ]
     },
     "execution_count": 3,
     "metadata": {},
     "output_type": "execute_result"
    }
   ],
   "source": [
    "# TODO: Fit two LogisticRegression models (full and reduced). Use max_iter >= 200.\n",
    "# YOUR CODE HERE\n",
    "clf_full = LogisticRegression(max_iter=200).fit(Xf_train, yf_train)\n",
    "clf_reduced = LogisticRegression(max_iter=200).fit(Xr_train, yr_train)\n",
    "\n",
    "yprob_full = clf_full.predict_proba(Xf_test)[:,1]\n",
    "yprob_reduced = clf_reduced.predict_proba(Xr_test)[:,1]\n",
    "\n",
    "clf_full.coef_, clf_reduced.coef_"
   ]
  },
  {
   "cell_type": "markdown",
   "id": "b9b64f57",
   "metadata": {},
   "source": [
    "## 3) Metrics at Threshold 0.5"
   ]
  },
  {
   "cell_type": "code",
   "execution_count": 4,
   "id": "c2ca0662",
   "metadata": {},
   "outputs": [
    {
     "data": {
      "text/html": [
       "<div>\n",
       "<style scoped>\n",
       "    .dataframe tbody tr th:only-of-type {\n",
       "        vertical-align: middle;\n",
       "    }\n",
       "\n",
       "    .dataframe tbody tr th {\n",
       "        vertical-align: top;\n",
       "    }\n",
       "\n",
       "    .dataframe thead th {\n",
       "        text-align: right;\n",
       "    }\n",
       "</style>\n",
       "<table border=\"1\" class=\"dataframe\">\n",
       "  <thead>\n",
       "    <tr style=\"text-align: right;\">\n",
       "      <th></th>\n",
       "      <th>acc</th>\n",
       "      <th>precision</th>\n",
       "      <th>recall</th>\n",
       "      <th>FPR</th>\n",
       "    </tr>\n",
       "  </thead>\n",
       "  <tbody>\n",
       "    <tr>\n",
       "      <th>full</th>\n",
       "      <td>0.723333</td>\n",
       "      <td>0.733333</td>\n",
       "      <td>0.678082</td>\n",
       "      <td>0.233766</td>\n",
       "    </tr>\n",
       "    <tr>\n",
       "      <th>reduced</th>\n",
       "      <td>0.716667</td>\n",
       "      <td>0.736434</td>\n",
       "      <td>0.650685</td>\n",
       "      <td>0.220779</td>\n",
       "    </tr>\n",
       "  </tbody>\n",
       "</table>\n",
       "</div>"
      ],
      "text/plain": [
       "              acc  precision    recall       FPR\n",
       "full     0.723333   0.733333  0.678082  0.233766\n",
       "reduced  0.716667   0.736434  0.650685  0.220779"
      ]
     },
     "execution_count": 4,
     "metadata": {},
     "output_type": "execute_result"
    }
   ],
   "source": [
    "thr = 0.5\n",
    "ypred_full = (yprob_full >= thr).astype(int)\n",
    "ypred_reduced = (yprob_reduced >= thr).astype(int)\n",
    "\n",
    "# TODO: Compute Accuracy, Precision, Recall for both models at threshold 0.5\n",
    "def compute_acc_prec_recall(y_hat, y_true):\n",
    "    eps = 1e-12\n",
    "    n = len(y_hat)\n",
    "    TP = np.sum(y_hat & y_true)\n",
    "    FP = np.sum(y_hat & (1-y_true))\n",
    "    TN = np.sum((1-y_hat) & (1-y_true))\n",
    "    FN = np.sum((1-y_hat) & y_true)\n",
    "    assert n == TP + FP + TN + FN\n",
    "    acc = (TP + TN) / n\n",
    "    precision = TP / (TP + FP + eps)\n",
    "    recall = TP / (TP + FN + eps)\n",
    "    return {\n",
    "        \"acc\": acc,\n",
    "        \"precision\": precision,\n",
    "        \"recall\": recall,\n",
    "        \"FPR\": FP / (TN + FP + eps),\n",
    "    }\n",
    "\n",
    "eval_full = compute_acc_prec_recall(ypred_full, yf_test)\n",
    "eval_reduced = compute_acc_prec_recall(ypred_reduced, yr_test)\n",
    "df_eval = pd.DataFrame([eval_full, eval_reduced], index=[\"full\", \"reduced\"])\n",
    "df_eval"
   ]
  },
  {
   "cell_type": "markdown",
   "id": "b0efddf6",
   "metadata": {},
   "source": [
    "## 4) Plot ROC and Precision–Recall Curves"
   ]
  },
  {
   "cell_type": "code",
   "execution_count": 5,
   "id": "a6f4365c",
   "metadata": {},
   "outputs": [],
   "source": [
    "# TODO: Plot ROC and PR curves for both models on shared axes\n",
    "def compute_ROC_PR(y_prob, y_true, thr_list):\n",
    "    precision_list = []\n",
    "    recall_list = []\n",
    "    FPR_list = []\n",
    "    for thr in thr_list:\n",
    "        y_hat = (y_prob >= thr).astype(int)\n",
    "        eval_dict = compute_acc_prec_recall(y_hat, y_true)\n",
    "        precision_list.append(eval_dict[\"precision\"])\n",
    "        recall_list.append(eval_dict[\"recall\"])\n",
    "        FPR_list.append(eval_dict[\"FPR\"])\n",
    "    return {\n",
    "        \"precision_list\": precision_list,\n",
    "        \"recall_list\": recall_list,\n",
    "        \"FPR_list\": FPR_list,\n",
    "    }\n",
    "thr_list = np.arange(0, 1.00, 0.01)\n",
    "ROC_PR_full = compute_ROC_PR(yprob_full, yf_test, thr_list)\n",
    "ROC_PR_reduced = compute_ROC_PR(yprob_reduced, yr_test, thr_list)"
   ]
  },
  {
   "cell_type": "code",
   "execution_count": 6,
   "id": "201a1df4-4099-46bf-9755-e92a7129fc61",
   "metadata": {},
   "outputs": [
    {
     "data": {
      "text/plain": [
       "Text(0, 0.5, 'Precision')"
      ]
     },
     "execution_count": 6,
     "metadata": {},
     "output_type": "execute_result"
    },
    {
     "data": {
      "image/png": "[encoded data removed]",
      "text/plain": [
       "<Figure size 1100x500 with 2 Axes>"
      ]
     },
     "metadata": {},
     "output_type": "display_data"
    }
   ],
   "source": [
    "fig = plt.figure(figsize = (11, 5))\n",
    "ax1 = fig.add_subplot(1, 2, 1)\n",
    "ax2 = fig.add_subplot(1, 2, 2)\n",
    "eval_list = [ROC_PR_full, ROC_PR_reduced]\n",
    "labels = [\"full\", \"reduced\"]\n",
    "colors = [\"red\", \"blue\"]\n",
    "for eval_dict, label, color in zip(eval_list, labels, colors):\n",
    "    ax1.plot(eval_dict[\"FPR_list\"], eval_dict[\"recall_list\"], label = label, color = color)\n",
    "    ax2.plot(eval_dict[\"recall_list\"], eval_dict[\"precision_list\"], label = label, color = color)\n",
    "\n",
    "ax1.grid()\n",
    "ax1.legend()\n",
    "ax2.grid()\n",
    "ax2.legend()\n",
    "ax1.set_title(\"ROC curve\")\n",
    "ax1.set_xlabel(\"False Positive Rate\")\n",
    "ax1.set_ylabel(\"True Positive Rate\")\n",
    "ax2.set_title(\"Precision-Recall curve\")\n",
    "ax2.set_xlabel(\"Recall\")\n",
    "ax2.set_ylabel(\"Precision\")\n"
   ]
  },
  {
   "cell_type": "markdown",
   "id": "9daed4eb",
   "metadata": {},
   "source": [
    "## 5) Interpretation\n",
    "\n",
    "1. Which model has higher **ROC-AUC** and **PR-AUC**? What does this imply about `PWAT`?\n",
    "\n",
    "   <span style=\"color:red\">The Model A (full) has higher ROC-AUC and PR-AUC, indicating that adding `PWAT` improves the model’s ability to reduce both false alarms and missed detections of the event.</span>\n",
    "3. Compare **accuracy**, **precision**, and **recall** for both models.  \n",
    "   - Which model would you choose to **maximize event detection** (recall)?  <span style=\"color:red\"> Model A (full) </span>\n",
    "   - Which model would you choose to **minimize false alarms** (precision)?  <span style=\"color:red\"> Model A (full) </span>"
   ]
  },
  {
   "cell_type": "code",
   "execution_count": null,
   "id": "fed17014-557b-43a3-8b74-fa879bbff35e",
   "metadata": {},
   "outputs": [],
   "source": []
  }
 ],
 "metadata": {
  "kernelspec": {
   "display_name": "logreg-weather",
   "language": "python",
   "name": "myenv"
  },
  "language_info": {
   "codemirror_mode": {
    "name": "ipython",
    "version": 3
   },
   "file_extension": ".py",
   "mimetype": "text/x-python",
   "name": "python",
   "nbconvert_exporter": "python",
   "pygments_lexer": "ipython3",
   "version": "3.14.0"
  }
 },
 "nbformat": 4,
 "nbformat_minor": 5
}
