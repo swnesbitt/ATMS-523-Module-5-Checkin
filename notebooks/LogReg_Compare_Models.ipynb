{
 "cells": [
  {
   "cell_type": "markdown",
   "id": "20200f80",
   "metadata": {},
   "source": [
    "# Homework: Compare Two Logistic Regression Models (Weather & Climate)\n",
    "\n",
    "**Compare the performance of two logistic regression models**  \n",
    "- **Model A (Full):** `CAPE`, `PWAT`, `Shear`  \n",
    "- **Model B (Reduced):** `CAPE`, only\n",
    "\n",
    "Does the three parameter model work better than the one parameter model?\n",
    "\n",
    "**Tasks**\n",
    "1. Split data into train/test.\n",
    "2. Fit both models.\n",
    "3. Compute **accuracy**, **precision**, **recall** at threshold 0.5.\n",
    "4. Plot **ROC** and **Precision–Recall** curves for both models on the same figures.\n",
    "5. Answer the interpretation questions.\n"
   ]
  },
  {
   "cell_type": "code",
   "execution_count": 109,
   "id": "b72aafdf",
   "metadata": {},
   "outputs": [
    {
     "data": {
      "text/html": [
       "<div>\n",
       "<style scoped>\n",
       "    .dataframe tbody tr th:only-of-type {\n",
       "        vertical-align: middle;\n",
       "    }\n",
       "\n",
       "    .dataframe tbody tr th {\n",
       "        vertical-align: top;\n",
       "    }\n",
       "\n",
       "    .dataframe thead th {\n",
       "        text-align: right;\n",
       "    }\n",
       "</style>\n",
       "<table border=\"1\" class=\"dataframe\">\n",
       "  <thead>\n",
       "    <tr style=\"text-align: right;\">\n",
       "      <th></th>\n",
       "      <th>cape</th>\n",
       "      <th>pwat</th>\n",
       "      <th>shear</th>\n",
       "      <th>event</th>\n",
       "    </tr>\n",
       "  </thead>\n",
       "  <tbody>\n",
       "    <tr>\n",
       "      <th>0</th>\n",
       "      <td>1339.091679</td>\n",
       "      <td>24.846334</td>\n",
       "      <td>4.350342</td>\n",
       "      <td>1</td>\n",
       "    </tr>\n",
       "    <tr>\n",
       "      <th>1</th>\n",
       "      <td>1620.699558</td>\n",
       "      <td>34.709626</td>\n",
       "      <td>23.376549</td>\n",
       "      <td>1</td>\n",
       "    </tr>\n",
       "    <tr>\n",
       "      <th>2</th>\n",
       "      <td>1237.079261</td>\n",
       "      <td>26.431445</td>\n",
       "      <td>20.809474</td>\n",
       "      <td>1</td>\n",
       "    </tr>\n",
       "    <tr>\n",
       "      <th>3</th>\n",
       "      <td>1157.616507</td>\n",
       "      <td>37.841527</td>\n",
       "      <td>29.506833</td>\n",
       "      <td>1</td>\n",
       "    </tr>\n",
       "    <tr>\n",
       "      <th>4</th>\n",
       "      <td>1708.955858</td>\n",
       "      <td>32.249385</td>\n",
       "      <td>6.662860</td>\n",
       "      <td>1</td>\n",
       "    </tr>\n",
       "  </tbody>\n",
       "</table>\n",
       "</div>"
      ],
      "text/plain": [
       "          cape       pwat      shear  event\n",
       "0  1339.091679  24.846334   4.350342      1\n",
       "1  1620.699558  34.709626  23.376549      1\n",
       "2  1237.079261  26.431445  20.809474      1\n",
       "3  1157.616507  37.841527  29.506833      1\n",
       "4  1708.955858  32.249385   6.662860      1"
      ]
     },
     "execution_count": 109,
     "metadata": {},
     "output_type": "execute_result"
    }
   ],
   "source": [
    "# Imports\n",
    "import numpy as np\n",
    "import pandas as pd\n",
    "import matplotlib.pyplot as plt\n",
    "from sklearn.model_selection import train_test_split\n",
    "from sklearn.linear_model import LogisticRegression\n",
    "from sklearn.metrics import (accuracy_score, precision_score, recall_score,\n",
    "                             roc_curve, auc,\n",
    "                             precision_recall_curve,\n",
    "                             PrecisionRecallDisplay)\n",
    "\n",
    "FEATURES_FULL = ['cape','pwat','shear']\n",
    "FEATURES_REDUCED = ['cape']\n",
    "TARGET = 'event'\n",
    "\n",
    "# Synthetic fallback\n",
    "USE_SYNTHETIC = True\n",
    "\n",
    "if USE_SYNTHETIC:\n",
    "    rng = np.random.default_rng(42)\n",
    "    n = 1200\n",
    "    cape  = rng.gamma(5.0, 250.0, size=n)\n",
    "    pwat  = rng.normal(30, 8, size=n).clip(5, 70)\n",
    "    shear = rng.normal(15, 6, size=n).clip(0, 40)\n",
    "    z = -6.0 + 0.0025*cape + 0.06*pwat + 0.05*shear + 0.00002*cape*shear\n",
    "    p = 1/(1+np.exp(-z))\n",
    "    y = rng.binomial(1, p)\n",
    "    df = pd.DataFrame({'cape':cape, 'pwat':pwat, 'shear':shear, 'event':y})\n",
    "else:\n",
    "    df = pd.read_csv('../data/your_data.csv').dropna()\n",
    "    assert TARGET in df.columns\n",
    "    assert all(c in df.columns for c in FEATURES_FULL)\n",
    "    df = df[FEATURES_FULL + [TARGET]]\n",
    "df.head()"
   ]
  },
  {
   "cell_type": "markdown",
   "id": "f36eaa81",
   "metadata": {},
   "source": [
    "## 1) Train/Test Split"
   ]
  },
  {
   "cell_type": "code",
   "execution_count": 2,
   "id": "a1b515ad",
   "metadata": {},
   "outputs": [
    {
     "data": {
      "text/plain": [
       "(900, 300)"
      ]
     },
     "execution_count": 2,
     "metadata": {},
     "output_type": "execute_result"
    }
   ],
   "source": [
    "# TODO: Split into train/test for both feature sets using SAME random_state and stratify by y\n",
    "X_full = df[FEATURES_FULL].values\n",
    "X_reduced = df[FEATURES_REDUCED].values\n",
    "y = df[TARGET].values.astype(int)\n",
    "\n",
    "# YOUR CODE HERE\n",
    "Xf_train, Xf_test, yf_train, yf_test = train_test_split(X_full, y, test_size=0.25, random_state=0, stratify=y)\n",
    "Xr_train, Xr_test, yr_train, yr_test = train_test_split(X_reduced, y, test_size=0.25, random_state=0, stratify=y)\n",
    "\n",
    "len(Xf_train), len(Xf_test)"
   ]
  },
  {
   "cell_type": "markdown",
   "id": "6c372d6d",
   "metadata": {},
   "source": [
    "## 2) Fit Both Logistic Regression Models"
   ]
  },
  {
   "cell_type": "code",
   "execution_count": 56,
   "id": "5b6cd8d0",
   "metadata": {},
   "outputs": [
    {
     "data": {
      "text/plain": [
       "(array([[0.00294362, 0.0514564 , 0.0928135 ]]), array([[0.00269818]]))"
      ]
     },
     "execution_count": 56,
     "metadata": {},
     "output_type": "execute_result"
    }
   ],
   "source": [
    "# TODO: Fit two LogisticRegression models (full and reduced). Use max_iter >= 200.\n",
    "# YOUR CODE HERE\n",
    "clf_full = LogisticRegression(max_iter=200).fit(Xf_train, yf_train)\n",
    "clf_reduced = LogisticRegression(max_iter=200).fit(Xr_train, yr_train)\n",
    "\n",
    "yprob_full = clf_full.predict_proba(Xf_test)[:,1]\n",
    "yprob_reduced = clf_reduced.predict_proba(Xr_test)[:,1]\n",
    "\n",
    "clf_full.coef_, clf_reduced.coef_"
   ]
  },
  {
   "cell_type": "code",
   "execution_count": 53,
   "id": "6275cbe4",
   "metadata": {},
   "outputs": [
    {
     "data": {
      "text/plain": [
       "array([0.09010819, 0.2419591 , 0.26173909, 0.0975169 , 0.07983603,\n",
       "       0.57867945, 0.99224887, 0.95521905, 0.83002252, 0.57147293,\n",
       "       0.60178402, 0.35299909, 0.04833465, 0.58613869, 0.13080917,\n",
       "       0.28191713, 0.58229473, 0.94766004, 0.25192196, 0.91810579,\n",
       "       0.58262122, 0.45413575, 0.55352664, 0.77270224, 0.92280799,\n",
       "       0.4711315 , 0.5552592 , 0.92948629, 0.11169873, 0.43357887,\n",
       "       0.94392272, 0.3016654 , 0.31095768, 0.27021838, 0.03943534,\n",
       "       0.57218675, 0.0998701 , 0.21541589, 0.54665773, 0.74315237,\n",
       "       0.98985316, 0.82299489, 0.08451125, 0.339369  , 0.53342159,\n",
       "       0.13750108, 0.32899374, 0.95320767, 0.38303558, 0.88546431,\n",
       "       0.71208222, 0.36651811, 0.73954591, 0.76394723, 0.6665004 ,\n",
       "       0.64171896, 0.40462065, 0.14044784, 0.0741884 , 0.95570444,\n",
       "       0.24703919, 0.80078082, 0.86453653, 0.69676934, 0.10079823,\n",
       "       0.29245656, 0.32760085, 0.30766737, 0.45392625, 0.64051268,\n",
       "       0.25084613, 0.08660237, 0.79693435, 0.45348479, 0.85988883,\n",
       "       0.40470741, 0.9997037 , 0.3776656 , 0.93064214, 0.0857056 ,\n",
       "       0.39585317, 0.06399009, 0.83811732, 0.10803706, 0.91239659,\n",
       "       0.37837866, 0.2469007 , 0.53249545, 0.24395177, 0.19004784,\n",
       "       0.40125028, 0.1348055 , 0.5874247 , 0.45006229, 0.24447728,\n",
       "       0.71035255, 0.9734136 , 0.68633387, 0.16417352, 0.3430336 ,\n",
       "       0.80010754, 0.17976529, 0.06563473, 0.89826616, 0.76008236,\n",
       "       0.12038532, 0.19311134, 0.09024764, 0.15735567, 0.90478079,\n",
       "       0.33420198, 0.10260183, 0.56969526, 0.63352942, 0.27771205,\n",
       "       0.27563013, 0.2468817 , 0.25348338, 0.42035213, 0.79693708,\n",
       "       0.98719851, 0.81400617, 0.59703443, 0.67009042, 0.61666798,\n",
       "       0.5241603 , 0.93403453, 0.97375122, 0.23275908, 0.08538383,\n",
       "       0.79320612, 0.2648142 , 0.36659259, 0.3814953 , 0.06640494,\n",
       "       0.54226196, 0.07767579, 0.34564028, 0.04244327, 0.19346982,\n",
       "       0.2336756 , 0.45422665, 0.88881247, 0.28903049, 0.9213983 ,\n",
       "       0.19906253, 0.35206726, 0.09637708, 0.75754626, 0.99032979,\n",
       "       0.85256853, 0.3296987 , 0.1812622 , 0.76405881, 0.39576905,\n",
       "       0.75421241, 0.392091  , 0.09126483, 0.38141967, 0.40474947,\n",
       "       0.17748061, 0.25979118, 0.13426601, 0.22746445, 0.43163008,\n",
       "       0.33983644, 0.12350896, 0.88197616, 0.2057948 , 0.27209108,\n",
       "       0.10128083, 0.55249911, 0.23924695, 0.61659415, 0.65557248,\n",
       "       0.455772  , 0.30644158, 0.89142434, 0.08388652, 0.33426395,\n",
       "       0.27352121, 0.56193193, 0.26003312, 0.39644465, 0.89529205,\n",
       "       0.12082387, 0.74180333, 0.60588183, 0.63282908, 0.06142522,\n",
       "       0.37597355, 0.95931123, 0.12945435, 0.71220642, 0.7321553 ,\n",
       "       0.32025102, 0.3592404 , 0.16222757, 0.27677851, 0.24050927,\n",
       "       0.34706215, 0.06267422, 0.05694977, 0.28011762, 0.47480675,\n",
       "       0.53503172, 0.38384776, 0.37611967, 0.66932226, 0.86825086,\n",
       "       0.65220627, 0.35959861, 0.07638157, 0.19814701, 0.82176379,\n",
       "       0.43155319, 0.5278437 , 0.5342922 , 0.43541034, 0.38168919,\n",
       "       0.54937336, 0.87082331, 0.89354952, 0.27694861, 0.17531612,\n",
       "       0.23229311, 0.04912659, 0.14872758, 0.48837759, 0.40890522,\n",
       "       0.68509029, 0.48427306, 0.64857221, 0.71073565, 0.21653599,\n",
       "       0.55974669, 0.6239296 , 0.85186977, 0.62566839, 0.98318185,\n",
       "       0.27741019, 0.4764164 , 0.37456383, 0.71601839, 0.60751366,\n",
       "       0.77389857, 0.05981056, 0.10491489, 0.99050685, 0.05315665,\n",
       "       0.58394809, 0.35573923, 0.66080221, 0.53094245, 0.79967001,\n",
       "       0.62383968, 0.26613521, 0.10648293, 0.64061382, 0.12323319,\n",
       "       0.21542936, 0.19069447, 0.5469399 , 0.51721498, 0.72945523,\n",
       "       0.21990497, 0.46976754, 0.27586622, 0.84511713, 0.86848714,\n",
       "       0.1252281 , 0.52604618, 0.98209388, 0.42550322, 0.99857265,\n",
       "       0.51257478, 0.67758077, 0.27672009, 0.97512407, 0.44408758,\n",
       "       0.91703638, 0.66986365, 0.88763302, 0.76503082, 0.53260362,\n",
       "       0.06915845, 0.11403785, 0.93300653, 0.93938443, 0.54960245,\n",
       "       0.77932486, 0.04381712, 0.31093163, 0.58432037, 0.33656923,\n",
       "       0.34545217, 0.80529085, 0.16266488, 0.74982331, 0.99244862])"
      ]
     },
     "execution_count": 53,
     "metadata": {},
     "output_type": "execute_result"
    }
   ],
   "source": [
    "yprob_full"
   ]
  },
  {
   "cell_type": "markdown",
   "id": "b9b64f57",
   "metadata": {},
   "source": [
    "## 3) Metrics at Threshold 0.5"
   ]
  },
  {
   "cell_type": "code",
   "execution_count": 58,
   "id": "c2ca0662",
   "metadata": {},
   "outputs": [
    {
     "name": "stdout",
     "output_type": "stream",
     "text": [
      "Accuracy Full and Reduced:  0.7233333333333334 0.7166666666666667\n",
      "Precision Full and Reduced:  0.7333333333333333 0.7364341085271318\n",
      "Recall Full and Reduced:  0.678082191780822 0.6506849315068494\n"
     ]
    }
   ],
   "source": [
    "thr = 0.5\n",
    "ypred_full = (yprob_full >= thr).astype(int)\n",
    "ypred_reduced = (yprob_reduced >= thr).astype(int)\n",
    "\n",
    "# TODO: Compute Accuracy, Precision, Recall for both models at threshold 0.5\n",
    "acc_f = accuracy_score(yf_test, ypred_full)\n",
    "acc_r = accuracy_score(yr_test, ypred_reduced)\n",
    "print('Accuracy Full and Reduced: ',acc_f, acc_r)\n",
    "\n",
    "ppv_f = precision_score(yf_test, ypred_full)\n",
    "ppv_r = precision_score(yr_test, ypred_reduced)\n",
    "print('Precision Full and Reduced: ',ppv_f, ppv_r)\n",
    "\n",
    "tpr_f = recall_score(yf_test, ypred_full)\n",
    "tpr_r = recall_score(yr_test, ypred_reduced)\n",
    "print('Recall Full and Reduced: ',tpr_f, tpr_r)"
   ]
  },
  {
   "cell_type": "markdown",
   "id": "b0efddf6",
   "metadata": {},
   "source": [
    "## 4) Plot ROC and Precision–Recall Curves"
   ]
  },
  {
   "cell_type": "code",
   "execution_count": null,
   "id": "a6f4365c",
   "metadata": {},
   "outputs": [],
   "source": [
    "# TODO: Plot ROC and PR curves for both models on shared axes\n",
    "# ROC: FP rate (x axis) vs TP rate (y axis)\n",
    "# PR: recall (x axis) vs precision (y axis)"
   ]
  },
  {
   "cell_type": "code",
   "execution_count": 108,
   "id": "32733f81",
   "metadata": {},
   "outputs": [
    {
     "data": {
      "text/plain": [
       "<matplotlib.legend.Legend at 0x152af776ce10>"
      ]
     },
     "execution_count": 108,
     "metadata": {},
     "output_type": "execute_result"
    },
    {
     "data": {
      "image/png": "[encoded data removed]",
      "text/plain": [
       "<Figure size 640x480 with 1 Axes>"
      ]
     },
     "metadata": {},
     "output_type": "display_data"
    }
   ],
   "source": [
    "fpr_f, tpr_f, thresholds_f = roc_curve(yf_test, yprob_full)#, drop_intermediate=False)\n",
    "roc_auc_f = auc(fpr_f, tpr_f)\n",
    "\n",
    "fpr_r, tpr_r, thresholds_r = roc_curve(yr_test, yprob_reduced)#, drop_intermediate=False)\n",
    "roc_auc_r = auc(fpr_r, tpr_r)\n",
    "\n",
    "plt.plot(fpr_f, tpr_f, label='Full, AUC: '+ str(roc_auc_f))\n",
    "plt.plot(fpr_r, tpr_r, label='Reduced, AUC: '+ str(roc_auc_r))\n",
    "plt.xlim(-.1,1.1)\n",
    "plt.ylim(-.1,1.1)\n",
    "plt.ylabel('True Positive Rate')\n",
    "plt.xlabel('False Positive Rate')\n",
    "plt.legend()"
   ]
  },
  {
   "cell_type": "code",
   "execution_count": 112,
   "id": "dbc7e70b",
   "metadata": {},
   "outputs": [
    {
     "data": {
      "text/plain": [
       "<matplotlib.legend.Legend at 0x152af759ae90>"
      ]
     },
     "execution_count": 112,
     "metadata": {},
     "output_type": "execute_result"
    },
    {
     "data": {
      "image/png": "[encoded data removed]",
      "text/plain": [
       "<Figure size 640x480 with 1 Axes>"
      ]
     },
     "metadata": {},
     "output_type": "display_data"
    }
   ],
   "source": [
    "precision_f, recall_f, _f = precision_recall_curve(yf_test, yprob_full)\n",
    "precision_r, recall_r, _r = precision_recall_curve(yr_test, yprob_reduced)\n",
    "\n",
    "pr_auc_f = auc(recall_f, precision_f)\n",
    "pr_auc_r = auc(recall_r, precision_r)\n",
    "\n",
    "plt.plot(recall_f, precision_f, label='Full, AUC: '+ str(pr_auc_f))\n",
    "plt.plot(recall_r, precision_r, label='Reduced, AUC: '+ str(pr_auc_r))\n",
    "plt.xlim(-.1,1.1)\n",
    "plt.ylim(.4,1.1)\n",
    "plt.xlabel('True Positive Rate')\n",
    "plt.ylabel('Positive Predictive Value')\n",
    "plt.legend()"
   ]
  },
  {
   "cell_type": "markdown",
   "id": "9daed4eb",
   "metadata": {},
   "source": [
    "## 5) Interpretation\n",
    "\n",
    "1. Which model has higher **ROC-AUC** and **PR-AUC**? What does this imply about `PWAT`?  \n",
    "\n",
    "The model including CAPE, PWAT, and shear has the greater ROC and PR AUC. This means that PWAT alone does not make as accurate predictions as including other variables such as CAPE and shear. Thus, CAPE and shear contain information that helps the model distiquish between different outcomes when it makes its predictions.\n",
    "\n",
    "2. Compare **accuracy**, **precision**, and **recall** for both models.  \n",
    "   - Which model would you choose to **maximize event detection** (recall)?  \n",
    "\n",
    "      I would choose the model with CAPE, PWAT, and shear\n",
    "\n",
    "   - Which model would you choose to **minimize false alarms** (precision)?  \n",
    "\n",
    "      I would choose the model with only PWAT"
   ]
  },
  {
   "cell_type": "markdown",
   "id": "8c3e08f4",
   "metadata": {},
   "source": []
  }
 ],
 "metadata": {
  "kernelspec": {
   "display_name": "xarray-climate",
   "language": "python",
   "name": "python3"
  },
  "language_info": {
   "codemirror_mode": {
    "name": "ipython",
    "version": 3
   },
   "file_extension": ".py",
   "mimetype": "text/x-python",
   "name": "python",
   "nbconvert_exporter": "python",
   "pygments_lexer": "ipython3",
   "version": "3.13.7"
  }
 },
 "nbformat": 4,
 "nbformat_minor": 5
}
