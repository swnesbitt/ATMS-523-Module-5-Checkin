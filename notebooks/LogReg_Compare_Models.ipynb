{
 "cells": [
  {
   "cell_type": "markdown",
   "id": "20200f80",
   "metadata": {},
   "source": [
    "# Homework: Compare Two Logistic Regression Models (Weather & Climate)\n",
    "\n",
    "**Compare the performance of two logistic regression models**  \n",
    "- **Model A (Full):** `CAPE`, `PWAT`, `Shear`  \n",
    "- **Model B (Reduced):** `CAPE`, only\n",
    "\n",
    "Does the three parameter model work better than the one parameter model?\n",
    "\n",
    "**Tasks**\n",
    "1. Split data into train/test.\n",
    "2. Fit both models.\n",
    "3. Compute **accuracy**, **precision**, **recall** at threshold 0.5.\n",
    "4. Plot **ROC** and **Precision–Recall** curves for both models on the same figures.\n",
    "5. Answer the interpretation questions.\n"
   ]
  },
  {
   "cell_type": "code",
   "execution_count": 7,
   "id": "b72aafdf",
   "metadata": {},
   "outputs": [
    {
     "data": {
      "text/html": [
       "<div>\n",
       "<style scoped>\n",
       "    .dataframe tbody tr th:only-of-type {\n",
       "        vertical-align: middle;\n",
       "    }\n",
       "\n",
       "    .dataframe tbody tr th {\n",
       "        vertical-align: top;\n",
       "    }\n",
       "\n",
       "    .dataframe thead th {\n",
       "        text-align: right;\n",
       "    }\n",
       "</style>\n",
       "<table border=\"1\" class=\"dataframe\">\n",
       "  <thead>\n",
       "    <tr style=\"text-align: right;\">\n",
       "      <th></th>\n",
       "      <th>cape</th>\n",
       "      <th>pwat</th>\n",
       "      <th>shear</th>\n",
       "      <th>event</th>\n",
       "    </tr>\n",
       "  </thead>\n",
       "  <tbody>\n",
       "    <tr>\n",
       "      <th>0</th>\n",
       "      <td>1339.091679</td>\n",
       "      <td>24.846334</td>\n",
       "      <td>4.350342</td>\n",
       "      <td>1</td>\n",
       "    </tr>\n",
       "    <tr>\n",
       "      <th>1</th>\n",
       "      <td>1620.699558</td>\n",
       "      <td>34.709626</td>\n",
       "      <td>23.376549</td>\n",
       "      <td>1</td>\n",
       "    </tr>\n",
       "    <tr>\n",
       "      <th>2</th>\n",
       "      <td>1237.079261</td>\n",
       "      <td>26.431445</td>\n",
       "      <td>20.809474</td>\n",
       "      <td>1</td>\n",
       "    </tr>\n",
       "    <tr>\n",
       "      <th>3</th>\n",
       "      <td>1157.616507</td>\n",
       "      <td>37.841527</td>\n",
       "      <td>29.506833</td>\n",
       "      <td>1</td>\n",
       "    </tr>\n",
       "    <tr>\n",
       "      <th>4</th>\n",
       "      <td>1708.955858</td>\n",
       "      <td>32.249385</td>\n",
       "      <td>6.662860</td>\n",
       "      <td>1</td>\n",
       "    </tr>\n",
       "    <tr>\n",
       "      <th>5</th>\n",
       "      <td>1202.691891</td>\n",
       "      <td>24.419542</td>\n",
       "      <td>23.749025</td>\n",
       "      <td>0</td>\n",
       "    </tr>\n",
       "    <tr>\n",
       "      <th>6</th>\n",
       "      <td>1437.802287</td>\n",
       "      <td>23.072481</td>\n",
       "      <td>15.420813</td>\n",
       "      <td>1</td>\n",
       "    </tr>\n",
       "    <tr>\n",
       "      <th>7</th>\n",
       "      <td>1377.361197</td>\n",
       "      <td>16.820030</td>\n",
       "      <td>19.836601</td>\n",
       "      <td>0</td>\n",
       "    </tr>\n",
       "    <tr>\n",
       "      <th>8</th>\n",
       "      <td>1708.295820</td>\n",
       "      <td>32.325865</td>\n",
       "      <td>5.113337</td>\n",
       "      <td>1</td>\n",
       "    </tr>\n",
       "    <tr>\n",
       "      <th>9</th>\n",
       "      <td>1069.650343</td>\n",
       "      <td>27.163300</td>\n",
       "      <td>23.808491</td>\n",
       "      <td>1</td>\n",
       "    </tr>\n",
       "  </tbody>\n",
       "</table>\n",
       "</div>"
      ],
      "text/plain": [
       "          cape       pwat      shear  event\n",
       "0  1339.091679  24.846334   4.350342      1\n",
       "1  1620.699558  34.709626  23.376549      1\n",
       "2  1237.079261  26.431445  20.809474      1\n",
       "3  1157.616507  37.841527  29.506833      1\n",
       "4  1708.955858  32.249385   6.662860      1\n",
       "5  1202.691891  24.419542  23.749025      0\n",
       "6  1437.802287  23.072481  15.420813      1\n",
       "7  1377.361197  16.820030  19.836601      0\n",
       "8  1708.295820  32.325865   5.113337      1\n",
       "9  1069.650343  27.163300  23.808491      1"
      ]
     },
     "execution_count": 7,
     "metadata": {},
     "output_type": "execute_result"
    }
   ],
   "source": [
    "# Imports\n",
    "import numpy as np\n",
    "import pandas as pd\n",
    "import matplotlib.pyplot as plt\n",
    "from sklearn.model_selection import train_test_split\n",
    "from sklearn.linear_model import LogisticRegression\n",
    "from sklearn.metrics import (accuracy_score, precision_score, recall_score,\n",
    "                             RocCurveDisplay, PrecisionRecallDisplay)\n",
    "\n",
    "FEATURES_FULL = ['cape','pwat','shear']\n",
    "FEATURES_REDUCED = ['cape']\n",
    "TARGET = 'event'\n",
    "\n",
    "# Synthetic fallback\n",
    "USE_SYNTHETIC = True\n",
    "\n",
    "if USE_SYNTHETIC:\n",
    "    rng = np.random.default_rng(42)\n",
    "    n = 1200\n",
    "    cape  = rng.gamma(5.0, 250.0, size=n)\n",
    "    pwat  = rng.normal(30, 8, size=n).clip(5, 70)\n",
    "    shear = rng.normal(15, 6, size=n).clip(0, 40)\n",
    "    z = -6.0 + 0.0025*cape + 0.06*pwat + 0.05*shear + 0.00002*cape*shear\n",
    "    p = 1/(1+np.exp(-z))\n",
    "    y = rng.binomial(1, p)\n",
    "    df = pd.DataFrame({'cape':cape, 'pwat':pwat, 'shear':shear, 'event':y})\n",
    "else:\n",
    "    df = pd.read_csv('../data/your_data.csv').dropna()\n",
    "    assert TARGET in df.columns\n",
    "    assert all(c in df.columns for c in FEATURES_FULL)\n",
    "    df = df[FEATURES_FULL + [TARGET]]\n",
    "df.head(10)"
   ]
  },
  {
   "cell_type": "markdown",
   "id": "f36eaa81",
   "metadata": {},
   "source": [
    "## 1) Train/Test Split"
   ]
  },
  {
   "cell_type": "code",
   "execution_count": null,
   "id": "a1b515ad",
   "metadata": {},
   "outputs": [
    {
     "name": "stdout",
     "output_type": "stream",
     "text": [
      "900 300\n",
      "900 300\n"
     ]
    }
   ],
   "source": [
    "# TODO: Split into train/test for both feature sets using SAME random_state and stratify by y\n",
    "X_full = df[FEATURES_FULL].values\n",
    "X_reduced = df[FEATURES_REDUCED].values\n",
    "y = df[TARGET].values.astype(int)\n",
    "\n",
    "\n",
    "Xf_train, Xf_test, yf_train, yf_test = train_test_split(X_full, y, test_size=0.25, random_state=0, stratify=y)\n",
    "Xr_train, Xr_test, yr_train, yr_test = train_test_split(X_reduced, y, test_size=0.25, random_state=0, stratify=y)\n",
    "\n",
    "print(len(Xf_train), len(Xf_test))\n",
    "print(len(Xr_train), len(Xr_test)) # Printed just to observe"
   ]
  },
  {
   "cell_type": "markdown",
   "id": "6c372d6d",
   "metadata": {},
   "source": [
    "## 2) Fit Both Logistic Regression Models"
   ]
  },
  {
   "cell_type": "code",
   "execution_count": null,
   "id": "5b6cd8d0",
   "metadata": {},
   "outputs": [
    {
     "data": {
      "text/plain": [
       "(array([[0.00294362, 0.0514564 , 0.0928135 ]]), array([[0.00269818]]))"
      ]
     },
     "execution_count": 3,
     "metadata": {},
     "output_type": "execute_result"
    }
   ],
   "source": [
    "# TODO: Fit two LogisticRegression models (full and reduced). Use max_iter >= 200.\n",
    "\n",
    "clf_full = LogisticRegression(max_iter=200).fit(Xf_train, yf_train)\n",
    "clf_reduced = LogisticRegression(max_iter=200).fit(Xr_train, yr_train)\n",
    "\n",
    "yprob_full = clf_full.predict_proba(Xf_test)[:,1]\n",
    "yprob_reduced = clf_reduced.predict_proba(Xr_test)[:,1]\n",
    "\n",
    "clf_full.coef_, clf_reduced.coef_"
   ]
  },
  {
   "cell_type": "markdown",
   "id": "b9b64f57",
   "metadata": {},
   "source": [
    "## 3) Metrics at Threshold 0.5"
   ]
  },
  {
   "cell_type": "code",
   "execution_count": 11,
   "id": "c2ca0662",
   "metadata": {},
   "outputs": [
    {
     "name": "stdout",
     "output_type": "stream",
     "text": [
      "                      Model  Accuracy  Precision  Recall  ROC-AUC  PR-AUC\n",
      "0  Full (CAPE, PWAT, Shear)     0.723      0.733   0.678    0.812   0.818\n",
      "1       Reduced (CAPE only)     0.717      0.736   0.651    0.791   0.798\n"
     ]
    }
   ],
   "source": [
    "from sklearn.metrics import roc_auc_score, average_precision_score\n",
    "\n",
    "thr = 0.5\n",
    "ypred_full = (yprob_full >= thr).astype(int)\n",
    "ypred_reduced = (yprob_reduced >= thr).astype(int)\n",
    "\n",
    "# TODO: Compute Accuracy, Precision, Recall for both models at threshold 0.5\n",
    "\n",
    "# Compute metrics\n",
    "acc_full = accuracy_score(yf_test, ypred_full)\n",
    "prec_full = precision_score(yf_test, ypred_full)\n",
    "rec_full = recall_score(yf_test, ypred_full)\n",
    "\n",
    "acc_reduced = accuracy_score(yr_test, ypred_reduced)\n",
    "prec_reduced = precision_score(yr_test, ypred_reduced)\n",
    "rec_reduced = recall_score(yr_test, ypred_reduced)\n",
    "\n",
    "# Compute ROC-AUC and PR-AUC\n",
    "roc_full = roc_auc_score(yf_test, yprob_full)\n",
    "roc_reduced = roc_auc_score(yr_test, yprob_reduced)\n",
    "pr_full = average_precision_score(yf_test, yprob_full)\n",
    "pr_reduced = average_precision_score(yr_test, yprob_reduced)\n",
    "\n",
    "# Display results\n",
    "metrics = pd.DataFrame({\n",
    "    'Model': ['Full (CAPE, PWAT, Shear)', 'Reduced (CAPE only)'],\n",
    "    'Accuracy': [acc_full, acc_reduced],\n",
    "    'Precision': [prec_full, prec_reduced],\n",
    "    'Recall': [rec_full, rec_reduced],\n",
    "    'ROC-AUC': [roc_full, roc_reduced],\n",
    "    'PR-AUC': [pr_full, pr_reduced]\n",
    "})\n",
    "print(metrics.round(3))"
   ]
  },
  {
   "cell_type": "markdown",
   "id": "b0efddf6",
   "metadata": {},
   "source": [
    "## 4) Plot ROC and Precision–Recall Curves"
   ]
  },
  {
   "cell_type": "code",
   "execution_count": 13,
   "id": "a6f4365c",
   "metadata": {},
   "outputs": [
    {
     "name": "stderr",
     "output_type": "stream",
     "text": [
      "/home/njm12/ATMS_523/envs/xarray-climate/lib/python3.13/site-packages/sklearn/utils/_plotting.py:175: FutureWarning: `**kwargs` is deprecated and will be removed in 1.9. Pass all matplotlib arguments to `curve_kwargs` as a dictionary instead.\n",
      "  warnings.warn(\n",
      "/home/njm12/ATMS_523/envs/xarray-climate/lib/python3.13/site-packages/sklearn/utils/_plotting.py:175: FutureWarning: `**kwargs` is deprecated and will be removed in 1.9. Pass all matplotlib arguments to `curve_kwargs` as a dictionary instead.\n",
      "  warnings.warn(\n"
     ]
    },
    {
     "data": {
      "image/png": "[encoded data removed]",
      "text/plain": [
       "<Figure size 1200x500 with 2 Axes>"
      ]
     },
     "metadata": {},
     "output_type": "display_data"
    }
   ],
   "source": [
    "# TODO: Plot ROC and PR curves for both models on shared axes\n",
    "\n",
    "fig, (ax1, ax2) = plt.subplots(1, 2, figsize=(12,5))\n",
    "\n",
    "# --- ROC Curves ---\n",
    "RocCurveDisplay.from_predictions(yf_test, yprob_full, name='Full Model', ax=ax1, color='C0')\n",
    "RocCurveDisplay.from_predictions(yr_test, yprob_reduced, name='Reduced Model', ax=ax1, color='C1')\n",
    "ax1.set_title(\"ROC Curves (Full vs Reduced)\")\n",
    "\n",
    "# --- Precision–Recall Curves ---\n",
    "PrecisionRecallDisplay.from_predictions(yf_test, yprob_full, name='Full Model', ax=ax2, color='C0')\n",
    "PrecisionRecallDisplay.from_predictions(yr_test, yprob_reduced, name='Reduced Model', ax=ax2, color='C1')\n",
    "ax2.set_title(\"Precision–Recall Curves (Full vs Reduced)\")\n",
    "\n",
    "plt.tight_layout()\n",
    "plt.show()\n"
   ]
  },
  {
   "cell_type": "markdown",
   "id": "9daed4eb",
   "metadata": {},
   "source": [
    "## 5) Interpretation\n",
    "\n",
    "1. Which model has higher **ROC-AUC** and **PR-AUC**? What does this imply about `PWAT`?  \n",
    "2. Compare **accuracy**, **precision**, and **recall** for both models.  \n",
    "   - Which model would you choose to **maximize event detection** (recall)?  \n",
    "   - Which model would you choose to **minimize false alarms** (precision)?  "
   ]
  },
  {
   "cell_type": "markdown",
   "id": "8c3e08f4",
   "metadata": {},
   "source": [
    "| Metric | Full Model (CAPE, PWAT, Shear) | Reduced Model (CAPE only) | Which Performs Better? |\n",
    "|:--------|:-------------------------------|:---------------------------|:------------------------|\n",
    "| **Accuracy** | 0.723 | 0.717 | Full |\n",
    "| **Precision** | 0.733 | 0.736 | Reduced |\n",
    "| **Recall** | 0.678 | 0.651 | Full |\n",
    "| **ROC–AUC** | 0.812 | 0.791 | Full |\n",
    "| **PR–AUC** | 0.818 | 0.798 | Full |\n",
    "\n",
    "### Summary\n",
    "\n",
    "The **three-parameter logistic regression model** (`CAPE`, `PWAT`, `Shear`) shows a modest improvement in predictive skill compared to the **one-parameter model** using only `CAPE`. The full model achieves slightly higher **accuracy**, **recall**, and **AUC** values, while the reduced model yields marginally higher **precision**.\n",
    "\n",
    "This indicates that including **precipitable water (PWAT)** and **vertical wind shear** helps the model detect more true events, though it introduces a small increase in false alarms. In contrast, the reduced model produces slightly fewer false positives but misses more true events.  \n",
    "\n",
    "In physical terms, severe weather occurrence depends not only on atmospheric instability (CAPE) but also on the availability of moisture and wind shear — both critical for storm organization and intensity.\n",
    "\n",
    "**Model choice by objective:**\n",
    "- To **maximize event detection (recall)** → I would choose the **Full model**.  \n",
    "- To **minimize false alarms (precision)** → I would choose the **Reduced model**.\n",
    "\n",
    "**Conclusion:**  \n",
    "> The three-parameter logistic regression model (CAPE, PWAT, Shear) provides slightly better overall skill and a more realistic representation of the physical processes leading to events, even at a small cost of additional false alarms/positives."
   ]
  },
  {
   "cell_type": "markdown",
   "id": "54bf4794",
   "metadata": {},
   "source": []
  }
 ],
 "metadata": {
  "kernelspec": {
   "display_name": "Python 3",
   "language": "python",
   "name": "python3"
  },
  "language_info": {
   "codemirror_mode": {
    "name": "ipython",
    "version": 3
   },
   "file_extension": ".py",
   "mimetype": "text/x-python",
   "name": "python",
   "nbconvert_exporter": "python",
   "pygments_lexer": "ipython3",
   "version": "3.13.7"
  }
 },
 "nbformat": 4,
 "nbformat_minor": 5
}
